{
 "cells": [
  {
   "cell_type": "markdown",
   "id": "ea6d2f43-452b-44c3-8eb8-a3f1cb211814",
   "metadata": {},
   "source": [
    "# Dictionary Basics (字典基礎)"
   ]
  },
  {
   "cell_type": "markdown",
   "id": "55f20c0b-0dee-48ca-a2e4-1dc781582b41",
   "metadata": {},
   "source": [
    "Dictionary是Python中的一種資料結構，**用「鍵(key)」來對應「值(value)」**。  \n",
    "\n",
    "### 語法結構:\n",
    "**變數名稱 = { 鍵1: 值1, 鍵2: 值2, 鍵3: 值3 }**  \n",
    "+ 用大括號`{}`包住所有key-value pairs\n",
    "+ 每個key-value pair中間用冒號`;`\n",
    "+ 每一對(pair)之間用逗號`,`分隔\n",
    "\n",
    "### 建立空字典的方法:\n",
    "|寫法|結果|建議用途|\n",
    "|:--|:--|:--|\n",
    "|`{}`|建立空字典|簡單直接，日常使用最多|\n",
    "|`dict()`|建立空字典|與程式設計思維一致，適合動態應用、結構化程式中使用|"
   ]
  },
  {
   "cell_type": "code",
   "execution_count": 7,
   "id": "4d3af57a-61be-4aca-b635-2c9e79a349f8",
   "metadata": {},
   "outputs": [
    {
     "name": "stdout",
     "output_type": "stream",
     "text": [
      "Jamie\n",
      "35\n",
      "Engineer\n",
      "34\n",
      "True\n",
      "False\n"
     ]
    }
   ],
   "source": [
    "# 範例\n",
    "\n",
    "# 建立一個dictionary\n",
    "person = {\n",
    "    'name': 'Jamie',\n",
    "    'age': 35,\n",
    "    'country': 'Taiwan'\n",
    "}\n",
    "\n",
    "# 取出值\n",
    "print(person['name'])   # 輸出: Jamie\n",
    "print(person['age'])    # 輸出: 35\n",
    "\n",
    "# 新增一筆資料\n",
    "person['job'] = 'Engineer'\n",
    "print(person['job'])    # 輸出: Engineer\n",
    "\n",
    "# 修改原有資料\n",
    "person['age'] = 34\n",
    "print(person['age'])    # 輸出: 34\n",
    "\n",
    "# 檢查某個 key 是否存在\n",
    "print('country' in person)   # 輸出: True\n",
    "print('height' in person)    # 輸出: False"
   ]
  },
  {
   "cell_type": "markdown",
   "id": "f3864b24-3241-4e36-b559-525b1947a0fd",
   "metadata": {},
   "source": [
    "### 補充說明:"
   ]
  },
  {
   "cell_type": "markdown",
   "id": "95152fb4-17bc-472d-8bee-90bbe2105c9d",
   "metadata": {},
   "source": [
    "#### 🔧 1. 外觀上`[]` vs `{}`是什麼？\n",
    "|符號|代表資料型態|中文說法|作用|\n",
    "|:---|:---|:---|:---|\n",
    "|`[]`|list (清單)|有順序的列表|依照「位置」存放值 (用索引值查找)|\n",
    "|`{}`|dictionary (字典)|無順序的鍵值對 (key-value pairs)|依照「鍵名(key)」存放值|"
   ]
  },
  {
   "cell_type": "markdown",
   "id": "a51e1917-8d9f-4fa4-a8c2-0c13198f00b6",
   "metadata": {},
   "source": [
    "#### 📦 2. `list`使用`[]`: 像一排櫃子\n",
    "+ `list`是一個「有順序」的容器\n",
    "+ 每個元素都有**位置編號(index)**，從`0`開始\n",
    "+ 使用`[]`來建立**list**和**存取位置**\n",
    "|索引值|值|\n",
    "|:--|:--|\n",
    "|0|'apple'|\n",
    "|1|'banana'|\n",
    "|2|'cherry'|"
   ]
  },
  {
   "cell_type": "markdown",
   "id": "dbc089b1-fd08-4b65-b50a-526f521c5862",
   "metadata": {},
   "source": [
    "#### 🗂️ 3. `dictionary`使用`{}`: 像一個資料夾，有標籤的分類\n",
    "+ `dictionary`是一個「沒有順序」的容器\n",
    "+ 使用「鍵(key)」來找「值(value)」\n",
    "+ 使用`{}`來**建立dictionary**\n",
    "+ 但**仍然使用`[]`來查值** (這點很常混淆!)\n",
    "|鍵 (key)|值 (value)|\n",
    "|:---|:---|\n",
    "|'name'|'Jamie'|\n",
    "|'age'|'35'|"
   ]
  },
  {
   "cell_type": "markdown",
   "id": "d0acdf52-26a7-4490-afc0-ad7121e08bf3",
   "metadata": {},
   "source": [
    "### 差異重點整理:\n",
    "|用途|list|dictionary|\n",
    "|:--|:--|:--|\n",
    "|建立用符號|`[]`|`{}`|\n",
    "|存取用符號|`[]` (用位置)|`[]` (用key)|\n",
    "|查找方式|`list[0]` (用index查值)|`dict['key']` (用key查值)|\n",
    "|存放型態|值的「列表」|鍵(key)對應值(value)的「配對」|\n",
    "|是否有順序|✅ 有順序|❌ 沒有順序|\n",
    "\n",
    "### 🔥 混淆提醒:\n",
    "**為什麼dictionary也用`[]`?** \n",
    "因為在Python中，`[]`有「查找某個位置」的意思：\n",
    "+ 在`list`中是位置(index)\n",
    "+ 在`dictionary`中是鍵名(key)，但**建立dictionary**一定要用`{}`!"
   ]
  },
  {
   "cell_type": "markdown",
   "id": "f4764e1b-a416-4b23-b0c5-e088c127ffef",
   "metadata": {},
   "source": [
    "## 🧰 Dictionary常用工具:\n",
    "|方法|功能|用途|\n",
    "|:--|:--|:--|\n",
    "|`.get()`|安全取值|可設定預設值避免錯誤|\n",
    "|`.keys()`|所有鍵(key)|用於遍歷、查詢|\n",
    "|`.values()`|所有值(value)|用於加總、統計或比大小|\n",
    "|`.items()`|key-value配對|遍歷時一次取出key和value|"
   ]
  },
  {
   "cell_type": "markdown",
   "id": "b4ef4f5c-68d9-4419-aaa4-327b4a17aca9",
   "metadata": {},
   "source": [
    "#### `.get(key, default)`: 安全地取值\n",
    "用來取出指定key的對應值，如果key不存在，會回傳指定的預設值(default)，避免出錯。"
   ]
  },
  {
   "cell_type": "code",
   "execution_count": 11,
   "id": "49e039c3-4112-4c20-b827-116a917f62b6",
   "metadata": {},
   "outputs": [
    {
     "name": "stdout",
     "output_type": "stream",
     "text": [
      "Jamie\n",
      "0\n"
     ]
    }
   ],
   "source": [
    "# 範例\n",
    "\n",
    "person = {'name': 'Jamie'}\n",
    "print(person.get('name'))    # 輸出: Jamie\n",
    "print(person.get('age', 0))  # 輸出: 0 (因為'age'不存在)"
   ]
  },
  {
   "cell_type": "markdown",
   "id": "b9140549-09a4-4d3c-ae05-efce1bcd23e5",
   "metadata": {},
   "source": [
    "#### `.keys()`: 取得所有key值\n",
    "回傳dictionary中所有的key組成的view，可以用`for`迴圈遍歷。"
   ]
  },
  {
   "cell_type": "code",
   "execution_count": 16,
   "id": "daafad63-2592-4ea8-b888-f826acd2aae5",
   "metadata": {},
   "outputs": [
    {
     "name": "stdout",
     "output_type": "stream",
     "text": [
      "dict_keys(['name', 'age'])\n",
      "name\n",
      "age\n"
     ]
    }
   ],
   "source": [
    "# 範例\n",
    "\n",
    "person = {'name': 'Jamie', 'age': 34}\n",
    "print(person.keys())\n",
    "\n",
    "for key in person.keys():\n",
    "    print(key)"
   ]
  },
  {
   "cell_type": "markdown",
   "id": "8eea7bd6-2e07-47d1-ba6f-66b3abcd48b6",
   "metadata": {},
   "source": [
    "#### `.value()`: 取得所有value值\n",
    "回傳dictionary中所有value組成的view。  \n",
    "+ 常見用途: 加總數值、找最大值、製作統計圖等。"
   ]
  },
  {
   "cell_type": "code",
   "execution_count": null,
   "id": "1f3dc8f9-ac63-4691-8718-f3007db6e043",
   "metadata": {},
   "outputs": [],
   "source": []
  },
  {
   "cell_type": "code",
   "execution_count": 5,
   "id": "04f1476c-783f-4aa8-bd1e-bef12d451757",
   "metadata": {},
   "outputs": [
    {
     "name": "stdout",
     "output_type": "stream",
     "text": [
      "270\n",
      "[90, 85, 95]\n"
     ]
    }
   ],
   "source": [
    "# 範例\n",
    "\n",
    "scores = { 'A': 90, 'B': 85, 'C': 95 }\n",
    "\n",
    "total = sum(scores.values())             # .values()可以用來加總所有成績 → 270\n",
    "print(total)\n",
    "\n",
    "print(list(scores.values()))             # 也可以利用list方式，逐一列出單個成績"
   ]
  },
  {
   "cell_type": "markdown",
   "id": "6e8a03bb-0e1e-4711-b43e-41f4226148f4",
   "metadata": {},
   "source": [
    "#### `.items()`: 同時取得key和value\n",
    "回傳每一組`key-value`配對的tuple，可用`for key, value in dict.items()`來同時處理。\n",
    "\n",
    "**注意:**  \n",
    "> `f'{字串}'`是一種字串內插方式\n",
    "\n",
    "以下範例中`print(f'{key}: {value}]')`；  \n",
    "此處用的是`f-string`語法，`{}`是插入字串的「標記位置」，和dictionary語法不同。"
   ]
  },
  {
   "cell_type": "code",
   "execution_count": 19,
   "id": "40cf028b-ee35-4967-9b8b-25e7c3d262a2",
   "metadata": {},
   "outputs": [
    {
     "name": "stdout",
     "output_type": "stream",
     "text": [
      "name: Jamie\n",
      "age: 34\n"
     ]
    }
   ],
   "source": [
    "# 範例\n",
    "\n",
    "person = {'name': 'Jamie', 'age': 34}\n",
    "for key, value in person.items():\n",
    "    print(f'{key}: {value}')   # 注意此處用的是f-string語法，{}是差插入字串的標記位置，和dictionary語法不同。"
   ]
  },
  {
   "cell_type": "markdown",
   "id": "839ebde3-c9b6-40aa-aa00-479890b47144",
   "metadata": {},
   "source": [
    "**補充說明:**  \n",
    "Dictionary中的每一筆entry (key-value pair) 在Python中其實就是一個`tuple`。  \n",
    "使用`dict.items()`會回傳所有entries，型態為:  \n",
    "→ list of tuples: `[ (key1, value1), (key2, value2), (key3, value3), ... ]`  \n",
    "> `tuple`: 一個長度為2的`(key, value)` pair"
   ]
  },
  {
   "cell_type": "code",
   "execution_count": 6,
   "id": "d7adadd0-7f30-4e18-b62d-327c18add4de",
   "metadata": {},
   "outputs": [
    {
     "name": "stdout",
     "output_type": "stream",
     "text": [
      "Chuck 1\n",
      "Fred 42\n",
      "Jan 100\n"
     ]
    }
   ],
   "source": [
    "# 範例\n",
    "\n",
    "jjj = { 'Chuck': 1, 'Fred': 42, 'Jan': 100 }\n",
    "for aaa,bbb in jjj.items():                   # 變數 aaa 和 bbb 同時逐一取出dictionary中的 key 和 value\n",
    "    print(aaa,bbb)"
   ]
  },
  {
   "cell_type": "markdown",
   "id": "9c4b7aeb-e836-42c8-be34-146382e18299",
   "metadata": {},
   "source": [
    "### Dictionary的 `key-value` 取用方法差異整理:\n",
    "|比較項目|取用方法一: `for key in dict:`|取用方法二: `for key,value in dict.items():`|\n",
    "|:--|:--|:--|\n",
    "|取出的資料|只有key|同時取出key和value|\n",
    "|是否要查值|✅ 要用`dict[key]`|❌ 不需要查值，以直接拆解|\n",
    "|易讀性|簡潔|更清楚表達意圖|\n",
    "|實務應用推薦|✅ OK，適用只用key的情況|✅✅ 更常見、推薦用於列出所有資料|\n",
    "\n",
    "+ 如果**只需要key**（例如查某個key是否存在），用**方法一**即可。\n",
    "+ 如果**同時要key和value**，用**方法二**更直觀、寫法更清晰。"
   ]
  },
  {
   "cell_type": "code",
   "execution_count": null,
   "id": "fc3e06a0-eda0-4324-8b14-02603971eaef",
   "metadata": {},
   "outputs": [],
   "source": []
  }
 ],
 "metadata": {
  "kernelspec": {
   "display_name": "Python 3 (ipykernel)",
   "language": "python",
   "name": "python3"
  },
  "language_info": {
   "codemirror_mode": {
    "name": "ipython",
    "version": 3
   },
   "file_extension": ".py",
   "mimetype": "text/x-python",
   "name": "python",
   "nbconvert_exporter": "python",
   "pygments_lexer": "ipython3",
   "version": "3.12.7"
  }
 },
 "nbformat": 4,
 "nbformat_minor": 5
}
