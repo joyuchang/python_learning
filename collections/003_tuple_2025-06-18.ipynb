{
 "cells": [
  {
   "cell_type": "markdown",
   "id": "db006bbe-50fd-499f-989b-eb42bb8bbf2c",
   "metadata": {},
   "source": [
    "# Tuple\n",
    "`Tuple`是Python的一種**不可變的有序集和**。  \n",
    "可以把它想成「不能修改的list」，可以存放多個元素，但不能加、刪、改。\n"
   ]
  },
  {
   "cell_type": "markdown",
   "id": "e58f8b40-25f4-4b85-a8b2-8e5e911d26f4",
   "metadata": {},
   "source": [
    "### 語法結構:\n",
    "1. **建立tuple的基本語法:**\n",
    "   > x = ( 'apple', 'banana', 'cherry' )  \n",
    "   > **也可以不加括號:** `x = 'a', 'b'`  \n",
    "\n",
    "2. **一個元素的tuple:**\n",
    "   **(注意逗號)**\n",
    "   > y = ( 'single', )\n",
    "\n",
    "+ 用 **小括號()** 建立\n",
    "+ 元素之間用逗號`,`分隔"
   ]
  },
  {
   "cell_type": "markdown",
   "id": "cd836e06-5754-45ea-a585-745e1057b929",
   "metadata": {},
   "source": [
    "### Tuple vs String比較表\n",
    "|比較項目|Tuple|String|\n",
    "|:--|:--|:--|\n",
    "|宣告方式|`('apple', 'banana')`|`'apple'`|\n",
    "|是否有順序|✅ 有|✅ 有|\n",
    "|是否可變|❌ 不可變|❌ 不可變|\n",
    "|可存放的內容|任意型別 (字串、數字、list等)|僅為字元序列 (只能是文字)|\n",
    "|用途|存放一組資料 (如:名字+分數)|儲存與處理文字|\n",
    "|index使用|✅ `x[0]`|✅ `s[0]`|\n",
    "\n",
    "+ 查閱018_Comparison_Table: **Python常見資料型別比較表**"
   ]
  },
  {
   "cell_type": "code",
   "execution_count": 3,
   "id": "1f3bf3a9-17af-4f0a-9555-b81851cc3894",
   "metadata": {},
   "outputs": [
    {
     "name": "stdout",
     "output_type": "stream",
     "text": [
      "John\n",
      "<class 'tuple'>\n",
      "<class 'str'>\n"
     ]
    }
   ],
   "source": [
    "# 範例\n",
    "\n",
    "x = ('John', 'Sara', 'Chuck', 'Sally')\n",
    "print(x[0])\n",
    "print(type(x))\n",
    "print(type(x[0]))"
   ]
  },
  {
   "cell_type": "code",
   "execution_count": 7,
   "id": "73f2a502-1dd6-452f-b8ae-d30004ffba58",
   "metadata": {},
   "outputs": [
    {
     "name": "stdout",
     "output_type": "stream",
     "text": [
      "<class 'str'>\n",
      "<class 'tuple'>\n",
      "<class 'list'>\n"
     ]
    }
   ],
   "source": [
    "# 範例\n",
    "\n",
    "x = ('John')\n",
    "print(type(x))\n",
    "\n",
    "y = ('John',)\n",
    "print(type(y))\n",
    "\n",
    "z = ['John']\n",
    "print(type(z))"
   ]
  },
  {
   "cell_type": "code",
   "execution_count": null,
   "id": "1363373e-d894-4309-8c8a-0a591bc9a5f2",
   "metadata": {},
   "outputs": [],
   "source": []
  }
 ],
 "metadata": {
  "kernelspec": {
   "display_name": "Python 3 (ipykernel)",
   "language": "python",
   "name": "python3"
  },
  "language_info": {
   "codemirror_mode": {
    "name": "ipython",
    "version": 3
   },
   "file_extension": ".py",
   "mimetype": "text/x-python",
   "name": "python",
   "nbconvert_exporter": "python",
   "pygments_lexer": "ipython3",
   "version": "3.12.7"
  }
 },
 "nbformat": 4,
 "nbformat_minor": 5
}
