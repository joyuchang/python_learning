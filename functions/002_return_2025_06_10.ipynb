{
 "cells": [
  {
   "cell_type": "markdown",
   "id": "6673f032-d552-4175-a18b-eade51d7e495",
   "metadata": {},
   "source": [
    "# return 回傳函式的結果\n",
    "\n",
    "### 語法說明:\n",
    "`return`是用在**函式中**，把運算後的「結果」傳回給呼叫該函式的地方。\n",
    "+ 一個函式只能執行一次`return`，一但執行就會離開函式。\n",
    "+ `return`可以搭配變數或運算式。\n",
    "\n",
    "### 語法格式:\n",
    "`def` 函式名稱(參數):  \n",
    "&nbsp;&nbsp;&nbsp;&nbsp;&nbsp;&nbsp;&nbsp;&nbsp;`return`回傳值  "
   ]
  },
  {
   "cell_type": "code",
   "execution_count": 1,
   "id": "dd2b9aa5-f21b-44af-890f-d4ce46ebdee8",
   "metadata": {},
   "outputs": [
    {
     "name": "stdout",
     "output_type": "stream",
     "text": [
      "25\n"
     ]
    }
   ],
   "source": [
    "# 範例\n",
    "\n",
    "def square(x):\n",
    "    return x * x\n",
    "\n",
    "result = square(5)\n",
    "print(result)"
   ]
  },
  {
   "cell_type": "markdown",
   "id": "d7ddf6b5-a5e0-46ad-a79b-08732e38c7b9",
   "metadata": {},
   "source": [
    "**範例說明**\n",
    "+ 定義了一個函式`square(x)`，會回傳`x`的平方。\n",
    "+ 呼叫`square(5)`會執行`return 25`，結果傳給變數`result`。\n",
    "+ 最後`print(result)`會印出25。"
   ]
  },
  {
   "cell_type": "markdown",
   "id": "4b933c5c-2a89-4704-891a-3c574df7a1c6",
   "metadata": {},
   "source": [
    "### 練習題 (基礎)\n",
    "請定義一個函式`add_two(num)`，回傳`num + 2`的結果。  \n",
    "並分別用3和7測試這個函式，印出回傳值。  \n",
    "\n",
    "**練習重點:**  \n",
    "+ 定義函式\n",
    "+ 使用`return`\n",
    "+ 呼叫函式並印出結果"
   ]
  },
  {
   "cell_type": "code",
   "execution_count": 3,
   "id": "0a2e57db-92f4-4b59-8d23-31826f932c48",
   "metadata": {},
   "outputs": [
    {
     "name": "stdout",
     "output_type": "stream",
     "text": [
      "5\n",
      "9\n"
     ]
    }
   ],
   "source": [
    "# 練習題 (基礎)\n",
    "\n",
    "def add_two(num):\n",
    "    return num + 2\n",
    "\n",
    "x = add_two(3)\n",
    "print(x)\n",
    "\n",
    "y = add_two(7)\n",
    "print(y)"
   ]
  },
  {
   "cell_type": "markdown",
   "id": "9c195560-8509-4bbf-9850-913e159d7fc2",
   "metadata": {},
   "source": [
    "### 練習題 (進階)\n",
    "\n",
    "請定義一個函式`classify_score(score)`，根據分數回傳不同等級：  \n",
    "分數範圍 90↑ : 回傳\"A\"  \n",
    "分數範圍 80↑ : 回傳\"B\"  \n",
    "分數範圍 70↑ : 回傳\"C\"  \n",
    "分數範圍 60↑ : 回傳\"D\"  \n",
    "分數範圍 其他 : 回傳\"F\"  \n",
    "\n",
    "請用`input()`讓使用者輸入一個分數，並印出對應的等級。  \n",
    "\n",
    "**練習重點:**\n",
    "+ 搭配`if-elif-else`\n",
    "+ 使用`return`回傳分類結果\n",
    "+ 使用`input()`與`float()`處理使用者輸入"
   ]
  },
  {
   "cell_type": "code",
   "execution_count": 13,
   "id": "367210dc-0b81-4532-8461-ac24a3a5d17d",
   "metadata": {},
   "outputs": [
    {
     "name": "stdin",
     "output_type": "stream",
     "text": [
      "請輸入分數: 66\n"
     ]
    },
    {
     "name": "stdout",
     "output_type": "stream",
     "text": [
      "D\n"
     ]
    }
   ],
   "source": [
    "# 練習題 (進階)\n",
    "\n",
    "def classify_score(score):\n",
    "    if score > 90:\n",
    "        return \"A\"\n",
    "    elif score > 80:\n",
    "        return \"B\"\n",
    "    elif score > 70:\n",
    "        return \"C\"\n",
    "    elif score > 60:\n",
    "        return \"D\"\n",
    "    else:\n",
    "        return \"F\"\n",
    "\n",
    "score = float(input(\"請輸入分數:\"))\n",
    "print(classify_score(score))"
   ]
  },
  {
   "cell_type": "code",
   "execution_count": null,
   "id": "992c830a-76c9-476f-b372-95c65ba25e24",
   "metadata": {},
   "outputs": [],
   "source": []
  }
 ],
 "metadata": {
  "kernelspec": {
   "display_name": "Python 3 (ipykernel)",
   "language": "python",
   "name": "python3"
  },
  "language_info": {
   "codemirror_mode": {
    "name": "ipython",
    "version": 3
   },
   "file_extension": ".py",
   "mimetype": "text/x-python",
   "name": "python",
   "nbconvert_exporter": "python",
   "pygments_lexer": "ipython3",
   "version": "3.12.7"
  }
 },
 "nbformat": 4,
 "nbformat_minor": 5
}
