{
 "cells": [
  {
   "cell_type": "markdown",
   "id": "57221df7-92dd-4247-b5de-cb001a2577ca",
   "metadata": {},
   "source": [
    "# Function Definition 函式定義\n",
    "\n",
    "### 語法結構說明:\n",
    "**def** `函式名稱(參數1, 參數2, ...)`:  \n",
    "&nbsp;&nbsp;&nbsp;&nbsp;&nbsp;&nbsp;&nbsp;&nbsp;**程式區塊** (縮排的內容)  \n",
    "&nbsp;&nbsp;&nbsp;&nbsp;&nbsp;&nbsp;&nbsp;&nbsp;**return** 回傳值 (可選擇是否需要回傳值)  \n",
    "\n",
    "+ `def`是關鍵字，代表「定義一個函式」\n",
    "+ `函式名稱`是你取的名字，用來呼叫這個功能\n",
    "+ `()`裡面可以放參數 (也可以不放)\n",
    "+ `:`是語法固定格式\n",
    "+ 裡面縮排的區域是函式「執行時會做的事」\n",
    "+ `return`是把執行結果回傳給外部 (不是必要，但很常見)"
   ]
  },
  {
   "cell_type": "code",
   "execution_count": 11,
   "id": "2e19c4ce-3982-441c-8783-3c4ad68dce3c",
   "metadata": {},
   "outputs": [
    {
     "name": "stdout",
     "output_type": "stream",
     "text": [
      "你好，奶油酥餅! 歡迎來到小狐狸的世界~\n"
     ]
    }
   ],
   "source": [
    "#範例\n",
    "def greet(name):\n",
    "    return f\"你好，{name}! 歡迎來到小狐狸的世界~\"\n",
    "\n",
    "print(greet(\"奶油酥餅\"))"
   ]
  },
  {
   "cell_type": "markdown",
   "id": "b168a30d-3621-49fd-a42f-54f4803515b6",
   "metadata": {},
   "source": [
    "**範例說明**\n",
    "+ `def greet(name):`表示定義一個名為`greet`的函式，接收一個參數`name`\n",
    "+ `return f\"...{name}...`表示回傳一個f-string，包含名字在裡面\n",
    "+ 當執行`greet(\"奶油酥餅\")`，就會回傳文字"
   ]
  },
  {
   "cell_type": "markdown",
   "id": "a6f1beaa-72c5-401b-be36-0b4fe99483ab",
   "metadata": {},
   "source": [
    "### 練習題\n",
    "請定義一個函式`square(num)`，回傳`num`的平方值。  \n",
    "\n",
    "**範例輸入與輸出:**  \n",
    "print(square(`3`))  # 輸出應為 9  \n",
    "print(square(`10`))  # 輸出應為 100  \n",
    "\n",
    "\n",
    "**練習重點:**\n",
    "+ 學會`def` + 參數\n",
    "+ 學會`return`回傳值"
   ]
  },
  {
   "cell_type": "code",
   "execution_count": 25,
   "id": "9ccd92b5-73a6-4bb8-89eb-e9ddc17be5f7",
   "metadata": {},
   "outputs": [
    {
     "name": "stdout",
     "output_type": "stream",
     "text": [
      "9\n",
      "100\n"
     ]
    }
   ],
   "source": [
    "#練習題\n",
    "def square(num):\n",
    "    return num * num    # 回傳參數 num 的平方\n",
    "\n",
    "print(square(3))\n",
    "\n",
    "print(square(10))"
   ]
  },
  {
   "cell_type": "markdown",
   "id": "30fad9f5-f4b5-4901-ae33-8c6467e88b3f",
   "metadata": {},
   "source": [
    "### 練習題 (進階)\n",
    "請定義一個函式`greet_user(name, age)`，  \n",
    "如果年齡 < 18，回傳`\"{name}，你還是學生吧?\"`，  \n",
    "否則回傳`\"{name}，歡迎加入社會!`\n",
    "\n",
    "**範例輸入與輸出:**  \n",
    "print(greet_user(\"奶油酥餅\", 12))  # 輸出: 奶油酥餅，你還是學生吧?  \n",
    "print(greet_user(\"小狐狸\", 25))  #輸出: 小狐狸，歡迎加入社會!  \n",
    "\n",
    "**練習重點:**  \n",
    "+ 多參數\n",
    "+ `if`條件判斷搭配函式使用\n",
    "+ 回傳不同內容"
   ]
  },
  {
   "cell_type": "code",
   "execution_count": 28,
   "id": "34bac44d-e7ea-4cc3-a636-e0daa65aed27",
   "metadata": {},
   "outputs": [
    {
     "name": "stdout",
     "output_type": "stream",
     "text": [
      "奶油酥餅，你還是學生吧?\n",
      "奶油酥餅，歡迎加入社會!\n",
      "The history saving thread hit an unexpected error (OperationalError('attempt to write a readonly database')).History will not be written to the database.\n"
     ]
    }
   ],
   "source": [
    "#練習題 (進階)\n",
    "\n",
    "def greet_user(name, age):\n",
    "    if age < 18:\n",
    "        return f\"{name}，你還是學生吧?\"\n",
    "    else:\n",
    "        return f\"{name}，歡迎加入社會!\"\n",
    "\n",
    "print(greet_user(\"奶油酥餅\", 17))\n",
    "\n",
    "print(greet_user(\"奶油酥餅\", 29))"
   ]
  },
  {
   "cell_type": "markdown",
   "id": "b3ecc0f2-4cc8-4bb6-9e2b-d40258784ebe",
   "metadata": {},
   "source": [
    "**補充說明**  \n",
    "關於函式回傳值，比較`return`和`print()`的用法差異，  \n",
    "可以查閱**Debug筆記 #007: 函式未回傳值導致`None`**"
   ]
  },
  {
   "cell_type": "code",
   "execution_count": null,
   "id": "f2f4645e-8f1c-4982-8d98-1cdebc044051",
   "metadata": {},
   "outputs": [],
   "source": []
  }
 ],
 "metadata": {
  "kernelspec": {
   "display_name": "Python 3 (ipykernel)",
   "language": "python",
   "name": "python3"
  },
  "language_info": {
   "codemirror_mode": {
    "name": "ipython",
    "version": 3
   },
   "file_extension": ".py",
   "mimetype": "text/x-python",
   "name": "python",
   "nbconvert_exporter": "python",
   "pygments_lexer": "ipython3",
   "version": "3.12.7"
  }
 },
 "nbformat": 4,
 "nbformat_minor": 5
}
