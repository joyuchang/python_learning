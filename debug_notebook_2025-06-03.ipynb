{
 "cells": [
  {
   "cell_type": "markdown",
   "id": "ce87e6bb-3f82-4df5-bf4e-ce895a36af5c",
   "metadata": {},
   "source": [
    "# Debug筆記 #001: ValueError - int()無法轉換文字\n",
    "\n",
    "**只有「像數字」的字串才會變身成int()。**  \n",
    "+ '123' ➜ 可以變身成int()  \n",
    "+ 'hello' ➜ 不可以變身成int()，會報錯"
   ]
  },
  {
   "cell_type": "code",
   "execution_count": 14,
   "id": "f8f714ab-b8af-41b3-bed9-49f80bc8c850",
   "metadata": {},
   "outputs": [
    {
     "ename": "ValueError",
     "evalue": "invalid literal for int() with base 10: 'Hello Bob'",
     "output_type": "error",
     "traceback": [
      "\u001b[0;31m---------------------------------------------------------------------------\u001b[0m",
      "\u001b[0;31mValueError\u001b[0m                                Traceback (most recent call last)",
      "Cell \u001b[0;32mIn[14], line 3\u001b[0m\n\u001b[1;32m      1\u001b[0m \u001b[38;5;66;03m#錯誤例子\u001b[39;00m\n\u001b[1;32m      2\u001b[0m x \u001b[38;5;241m=\u001b[39m \u001b[38;5;124m'\u001b[39m\u001b[38;5;124mHello Bob\u001b[39m\u001b[38;5;124m'\u001b[39m\n\u001b[0;32m----> 3\u001b[0m y \u001b[38;5;241m=\u001b[39m \u001b[38;5;28mint\u001b[39m(nsv)\n",
      "\u001b[0;31mValueError\u001b[0m: invalid literal for int() with base 10: 'Hello Bob'"
     ]
    }
   ],
   "source": [
    "#錯誤例子\n",
    "x = 'Hello Bob'\n",
    "y = int(nsv)"
   ]
  },
  {
   "cell_type": "markdown",
   "id": "6963cff3-94c9-43a4-912a-dcd80299e5ee",
   "metadata": {},
   "source": [
    "**錯誤原因說明**  \n",
    "我嘗試用int()把一段不是數字的字串'Hello Bob'轉換成整數；  \n",
    "但'Hello Bob'這種文字不能直接變成數字，Python會說「我看不懂這是什麼數字」，所以報錯。"
   ]
  },
  {
   "cell_type": "code",
   "execution_count": 7,
   "id": "ddf9b922-9264-4a01-abfa-02da556ec38d",
   "metadata": {},
   "outputs": [
    {
     "name": "stdout",
     "output_type": "stream",
     "text": [
      "124\n"
     ]
    }
   ],
   "source": [
    "#正確寫法\n",
    "x = '123'\n",
    "y = int(x)\n",
    "print(y + 1)"
   ]
  },
  {
   "cell_type": "markdown",
   "id": "6f3ca550-0de7-44a4-b114-8bf6fce2ac49",
   "metadata": {},
   "source": [
    "# Debug筆記 #002: TypeError - 字串(String)不能做數學乘法"
   ]
  },
  {
   "cell_type": "code",
   "execution_count": 16,
   "id": "86426024-7bc3-4d4f-83c3-1903aae1dc4f",
   "metadata": {},
   "outputs": [
    {
     "name": "stdin",
     "output_type": "stream",
     "text": [
      "請輸入你的工作時數 : 35\n",
      "請輸入你的每小時薪水 : 2.75\n"
     ]
    },
    {
     "ename": "TypeError",
     "evalue": "can't multiply sequence by non-int of type 'str'",
     "output_type": "error",
     "traceback": [
      "\u001b[0;31m---------------------------------------------------------------------------\u001b[0m",
      "\u001b[0;31mTypeError\u001b[0m                                 Traceback (most recent call last)",
      "Cell \u001b[0;32mIn[16], line 4\u001b[0m\n\u001b[1;32m      2\u001b[0m hours \u001b[38;5;241m=\u001b[39m \u001b[38;5;28minput\u001b[39m(\u001b[38;5;124m\"\u001b[39m\u001b[38;5;124m請輸入你的工作時數 :\u001b[39m\u001b[38;5;124m\"\u001b[39m)\n\u001b[1;32m      3\u001b[0m rate \u001b[38;5;241m=\u001b[39m \u001b[38;5;28minput\u001b[39m(\u001b[38;5;124m\"\u001b[39m\u001b[38;5;124m請輸入你的每小時薪水 :\u001b[39m\u001b[38;5;124m\"\u001b[39m)\n\u001b[0;32m----> 4\u001b[0m payment \u001b[38;5;241m=\u001b[39m hours \u001b[38;5;241m*\u001b[39m rate\n\u001b[1;32m      5\u001b[0m \u001b[38;5;28mprint\u001b[39m(\u001b[38;5;124m\"\u001b[39m\u001b[38;5;124mPay:\u001b[39m\u001b[38;5;124m\"\u001b[39m, payment)\n",
      "\u001b[0;31mTypeError\u001b[0m: can't multiply sequence by non-int of type 'str'"
     ]
    }
   ],
   "source": [
    "#錯誤例子: 練習input()時發生的錯誤\n",
    "hours = input(\"請輸入你的工作時數 :\")\n",
    "rate = input(\"請輸入你的每小時薪水 :\")\n",
    "payment = hours * rate\n",
    "print(\"Pay:\", payment)"
   ]
  },
  {
   "cell_type": "markdown",
   "id": "71940d63-1b51-4a28-a987-da91da2e0166",
   "metadata": {},
   "source": [
    "**錯誤原因說明**  \n",
    "因為input()語法讀取進來的內容是「字串(String)」，  \n",
    "但我們不能用「字串 * 字串」來算數學，Python會看不懂，所以報錯。"
   ]
  },
  {
   "cell_type": "code",
   "execution_count": 19,
   "id": "e03486d7-3c99-4dac-8757-8f3187bfaf3b",
   "metadata": {},
   "outputs": [
    {
     "name": "stdin",
     "output_type": "stream",
     "text": [
      "請輸入你的工作時數 : 35\n",
      "請輸入你的每小時薪水 : 2.75\n"
     ]
    },
    {
     "name": "stdout",
     "output_type": "stream",
     "text": [
      "Pay: 96.25\n"
     ]
    }
   ],
   "source": [
    "#正確寫法: 加上float()語法，將input()讀取到的字串(String)變成浮點數(Float)。\n",
    "hours = float(input(\"請輸入你的工作時數 :\"))\n",
    "rate = float(input(\"請輸入你的每小時薪水 :\"))\n",
    "payment = hours * rate\n",
    "print(\"Pay:\", payment)"
   ]
  },
  {
   "cell_type": "markdown",
   "id": "d262bebe-9a2d-4255-964c-927da295b4f8",
   "metadata": {},
   "source": [
    "# Debug筆記 #003: SyntaxError - print()字串str結合錯誤"
   ]
  },
  {
   "cell_type": "code",
   "execution_count": 20,
   "id": "14885b45-d068-4edb-8f2a-f6ce4bc3ff7d",
   "metadata": {},
   "outputs": [
    {
     "ename": "SyntaxError",
     "evalue": "invalid syntax. Perhaps you forgot a comma? (2802996702.py, line 4)",
     "output_type": "error",
     "traceback": [
      "\u001b[0;36m  Cell \u001b[0;32mIn[20], line 4\u001b[0;36m\u001b[0m\n\u001b[0;31m    print(\"還有\"money\"元!\")\u001b[0m\n\u001b[0m          ^\u001b[0m\n\u001b[0;31mSyntaxError\u001b[0m\u001b[0;31m:\u001b[0m invalid syntax. Perhaps you forgot a comma?\n"
     ]
    }
   ],
   "source": [
    "#錯誤例子\n",
    "money = 10\n",
    "while money > 0:\n",
    "    print(\"還有\"money\"元!\")\n",
    "    money = money - 2\n",
    "print(\"沒錢啦! 小狐狸回家了!\")"
   ]
  },
  {
   "cell_type": "markdown",
   "id": "9c25d66d-a904-4235-938d-ad3259369660",
   "metadata": {},
   "source": [
    "**錯誤原因說明**  \n",
    "print(\"還有\"money\"元!\")錯誤  \n",
    "使用了多段字串str(\"還有\"、\"元\")，中間卻插入了變數money。  \n",
    "但是 **\"還有\"**、**money**、**\"元\"**，這三段被當成是 **沒有明確分隔的東西**，Python會不知道怎麼處理。  \n",
    "不能直接把字串跟變數黏在一起使用。  \n",
    "\n",
    "**以下共有四種正確寫法**  \n",
    "(如果要去掉數字兩側的空格，推薦第四種寫法)"
   ]
  },
  {
   "cell_type": "code",
   "execution_count": 23,
   "id": "bd9ca88c-b4ed-4727-bc11-b3c7db6173cb",
   "metadata": {},
   "outputs": [
    {
     "name": "stdout",
     "output_type": "stream",
     "text": [
      "還有 10 元!\n"
     ]
    }
   ],
   "source": [
    "#正確寫法-1: 使用逗號(即Python的原始提示)\n",
    "money = 10\n",
    "print(\"還有\", money, \"元!\")"
   ]
  },
  {
   "cell_type": "code",
   "execution_count": 26,
   "id": "71d0ad90-be1f-4f05-8805-cfa0319816da",
   "metadata": {},
   "outputs": [
    {
     "name": "stdout",
     "output_type": "stream",
     "text": [
      "還有10元!\n"
     ]
    }
   ],
   "source": [
    "#正確寫法-2: 使用逗號，但不想要空格，則使用spe=\"\"強制去掉空格。\n",
    "money = 10\n",
    "print(\"還有\", money, \"元!\", sep=\"\")"
   ]
  },
  {
   "cell_type": "code",
   "execution_count": 27,
   "id": "62b8f372-148f-4a53-b817-2485b8755f07",
   "metadata": {},
   "outputs": [
    {
     "name": "stdout",
     "output_type": "stream",
     "text": [
      "還有10元!\n"
     ]
    }
   ],
   "source": [
    "#正確寫法-3: 使用字串加法，要加str()把變數money變成字串str。(同樣沒有空格)\n",
    "money = 10\n",
    "print(\"還有\" + str(money) + \"元!\")"
   ]
  },
  {
   "cell_type": "code",
   "execution_count": 29,
   "id": "2b30b2e7-965d-487a-9380-2a3e7d0d38b0",
   "metadata": {},
   "outputs": [
    {
     "name": "stdout",
     "output_type": "stream",
     "text": [
      "還有10元!\n"
     ]
    }
   ],
   "source": [
    "#正確寫法-4: 使用f-string (最乾淨最簡潔的方式)\n",
    "money = 10\n",
    "print(f\"還有{money}元!\")"
   ]
  },
  {
   "cell_type": "markdown",
   "id": "614ffc96-02bc-4171-b55f-b119c9b7cdbf",
   "metadata": {},
   "source": [
    "關於f-string的應用請查閱Practice的**005_f-string_2025-06-06.ipnb**"
   ]
  },
  {
   "cell_type": "markdown",
   "id": "c57a7e53-e073-4ca5-8925-c60eeeedcb8d",
   "metadata": {},
   "source": [
    "# Debug筆記 #004: SyntaxError -  \n",
    "# `指定賦值(assign) =` 和 `比較運算符號 ==` 混用"
   ]
  },
  {
   "cell_type": "code",
   "execution_count": 2,
   "id": "acfb85d8-4449-4f12-b8f4-3253794d2f32",
   "metadata": {},
   "outputs": [
    {
     "ename": "SyntaxError",
     "evalue": "cannot assign to expression here. Maybe you meant '==' instead of '='? (1228459067.py, line 3)",
     "output_type": "error",
     "traceback": [
      "\u001b[0;36m  Cell \u001b[0;32mIn[2], line 3\u001b[0;36m\u001b[0m\n\u001b[0;31m    if i % 2 = 0:\u001b[0m\n\u001b[0m       ^\u001b[0m\n\u001b[0;31mSyntaxError\u001b[0m\u001b[0;31m:\u001b[0m cannot assign to expression here. Maybe you meant '==' instead of '='?\n"
     ]
    }
   ],
   "source": [
    "#錯誤例子\n",
    "for i in range(1, 11):\n",
    "    if i % 2 = 0:\n",
    "        print(f\"{i}是偶數\")"
   ]
  },
  {
   "cell_type": "markdown",
   "id": "82ed08dd-2378-4574-b940-564fcf27a388",
   "metadata": {},
   "source": [
    "**錯誤原因說明**  \n",
    "不能在這裡使用「指定賦值(assign)」符號`=`。  \n",
    "+ 條件判斷要用雙等號`==`，不是指定賦值符號`=`！"
   ]
  },
  {
   "cell_type": "code",
   "execution_count": 3,
   "id": "3b781aa0-e109-42ec-bdba-973a3a05ca5e",
   "metadata": {},
   "outputs": [
    {
     "name": "stdout",
     "output_type": "stream",
     "text": [
      "2是偶數\n",
      "4是偶數\n",
      "6是偶數\n",
      "8是偶數\n",
      "10是偶數\n"
     ]
    }
   ],
   "source": [
    "#正確寫法\n",
    "for i in range(1,11):\n",
    "    if i % 2 == 0:\n",
    "        print(f\"{i}是偶數\")"
   ]
  },
  {
   "cell_type": "markdown",
   "id": "695c4c0a-153d-4e23-9eff-bb2c788ba481",
   "metadata": {},
   "source": [
    "**補充說明**  \n",
    "+ 指定賦值(assign) → 使用語法 `=` → 把右邊的值給左邊的變數 (不能拿去做「判斷」)\n",
    "+ 比較是否相等 → 使用語法 `==` → 判斷左右是否一樣 (if裡面該用這個)"
   ]
  },
  {
   "cell_type": "markdown",
   "id": "f738bcd6-6e7c-4b53-a4af-29ca230ec105",
   "metadata": {},
   "source": [
    "# Debug筆記 #004: SyntaxError -  \n",
    "# `else`語法錯誤 (不能加條件)"
   ]
  },
  {
   "cell_type": "code",
   "execution_count": 4,
   "id": "2ad5ae01-46c0-4a88-9333-4960ae07821c",
   "metadata": {},
   "outputs": [
    {
     "ename": "SyntaxError",
     "evalue": "expected ':' (3764762098.py, line 6)",
     "output_type": "error",
     "traceback": [
      "\u001b[0;36m  Cell \u001b[0;32mIn[4], line 6\u001b[0;36m\u001b[0m\n\u001b[0;31m    else x > 10:\u001b[0m\n\u001b[0m         ^\u001b[0m\n\u001b[0;31mSyntaxError\u001b[0m\u001b[0;31m:\u001b[0m expected ':'\n"
     ]
    }
   ],
   "source": [
    "#錯誤例子\n",
    "x = 5\n",
    "\n",
    "if x < 10:\n",
    "    print('Less than 10')\n",
    "else x > 10:\n",
    "    print('More than 10')"
   ]
  },
  {
   "cell_type": "markdown",
   "id": "2471483f-49b7-4a90-b47e-6cc2e905f751",
   "metadata": {},
   "source": [
    "**錯誤原因說明**  \n",
    "`else`後面不可以加條件。\n",
    "\n",
    "**正確語法規則**  \n",
    "`if 條件:` → 如果符合這個條件就執行  \n",
    "`elif 條件:` → 否則如果符合另一個條件就執行  \n",
    "`else:` → 其他所有情況就執行 (**不能加條件**)  "
   ]
  },
  {
   "cell_type": "code",
   "execution_count": 8,
   "id": "e64cf0f7-4d3d-4b9b-9803-c136294eba95",
   "metadata": {},
   "outputs": [
    {
     "name": "stdout",
     "output_type": "stream",
     "text": [
      "Less than 10\n"
     ]
    }
   ],
   "source": [
    "#正確寫法-1\n",
    "x = 5\n",
    "\n",
    "if x < 10:\n",
    "    print('Less than 10')\n",
    "elif x > 10:\n",
    "    print('More than 10')"
   ]
  },
  {
   "cell_type": "code",
   "execution_count": 7,
   "id": "7b751e2c-7703-4814-b164-e2b25977d823",
   "metadata": {},
   "outputs": [
    {
     "name": "stdout",
     "output_type": "stream",
     "text": [
      "Not less than 10\n"
     ]
    }
   ],
   "source": [
    "#正確寫法-2 (如果只想判斷「不是小於10」的其他情況)\n",
    "x = 20\n",
    "\n",
    "if x < 10:\n",
    "    print('Less than 10')\n",
    "else:\n",
    "    print('Not less than 10')"
   ]
  },
  {
   "cell_type": "markdown",
   "id": "49e12552-c933-4bf7-9f6a-7c40f48b391d",
   "metadata": {},
   "source": [
    "# Debug筆記 #005: if-elif條件排序錯誤 - \n",
    "# 條件排序`要從最大條件往下排`"
   ]
  },
  {
   "cell_type": "code",
   "execution_count": 4,
   "id": "1e82cf2d-bd96-49ad-9660-103cc12a7574",
   "metadata": {},
   "outputs": [
    {
     "name": "stdin",
     "output_type": "stream",
     "text": [
      "Enter Score:  85\n"
     ]
    },
    {
     "name": "stdout",
     "output_type": "stream",
     "text": [
      "B\n"
     ]
    }
   ],
   "source": [
    "#錯誤例子\n",
    "try:\n",
    "    score = float(input(\"Enter Score: \"))\n",
    "    \n",
    "    if score < 60:\n",
    "        print(\"C\")\n",
    "    elif score >= 60:\n",
    "        print(\"B\")\n",
    "    elif score >= 80:\n",
    "        print(\"A\")\n",
    "\n",
    "except:\n",
    "    print(\"Please Enter Numbers.\")"
   ]
  },
  {
   "cell_type": "markdown",
   "id": "63f47694-9953-4d7c-bc58-22e9f1049ab8",
   "metadata": {},
   "source": [
    "**錯誤原因說明**  \n",
    "儘管程序並未報錯，但實際上運算只到第二階段`score >= 60`即停止，  \n",
    "跳過了`score >= 80`的驗證步驟；所以得出的**結果無意義**。"
   ]
  },
  {
   "cell_type": "markdown",
   "id": "9455fa73-a9a7-473b-9310-ffc9bd3fa83d",
   "metadata": {},
   "source": [
    "**正確語法原則**  \n",
    "如果條件有等級分類(例如成績、價錢、年齡階段)，**要從最大條件往下排**。  \n",
    "+ if-elif的條件順序非常重要，一旦某個條件成立，Python就不會再繼續看後面的elif。\n",
    "+ 寫等級條件時，要從`範圍最大的條件往下排`，才會判斷正確。"
   ]
  },
  {
   "cell_type": "code",
   "execution_count": 2,
   "id": "142ba138-b1e9-4c27-b844-410a17869ae5",
   "metadata": {},
   "outputs": [
    {
     "name": "stdin",
     "output_type": "stream",
     "text": [
      "Enter Score:  85\n"
     ]
    },
    {
     "name": "stdout",
     "output_type": "stream",
     "text": [
      "A\n"
     ]
    }
   ],
   "source": [
    "#正確寫法\n",
    "try:\n",
    "    score = float(input(\"Enter Score: \"))\n",
    "\n",
    "    if score >= 80:\n",
    "        print(\"A\")\n",
    "    elif score >= 60:\n",
    "        print(\"B\")\n",
    "    elif score < 60:\n",
    "        print(\"C\")\n",
    "\n",
    "except:\n",
    "    print(\"Please Enter Numbers.\")"
   ]
  },
  {
   "cell_type": "markdown",
   "id": "4bd86d38-bd9b-45d7-bf39-6c75cfb2e14e",
   "metadata": {},
   "source": [
    "# Debug筆記 #006: TypeError (類型錯誤) - \n",
    "# `f-string`中不能混用str + int  "
   ]
  },
  {
   "cell_type": "code",
   "execution_count": 5,
   "id": "8ee5777e-e5ca-4cf7-8b08-2f05fac66f74",
   "metadata": {},
   "outputs": [
    {
     "ename": "TypeError",
     "evalue": "can only concatenate str (not \"int\") to str",
     "output_type": "error",
     "traceback": [
      "\u001b[0;31m---------------------------------------------------------------------------\u001b[0m",
      "\u001b[0;31mTypeError\u001b[0m                                 Traceback (most recent call last)",
      "Cell \u001b[0;32mIn[5], line 3\u001b[0m\n\u001b[1;32m      1\u001b[0m \u001b[38;5;66;03m#錯誤例子\u001b[39;00m\n\u001b[1;32m      2\u001b[0m x \u001b[38;5;241m=\u001b[39m \u001b[38;5;124m'\u001b[39m\u001b[38;5;124m123\u001b[39m\u001b[38;5;124m'\u001b[39m\n\u001b[0;32m----> 3\u001b[0m \u001b[38;5;28mprint\u001b[39m(\u001b[38;5;124mf\u001b[39m\u001b[38;5;124m\"\u001b[39m\u001b[38;5;132;01m{\u001b[39;00mx\u001b[38;5;250m \u001b[39m\u001b[38;5;241m+\u001b[39m\u001b[38;5;250m \u001b[39m\u001b[38;5;241m1\u001b[39m\u001b[38;5;132;01m}\u001b[39;00m\u001b[38;5;124m\"\u001b[39m)\n",
      "\u001b[0;31mTypeError\u001b[0m: can only concatenate str (not \"int\") to str"
     ]
    }
   ],
   "source": [
    "#錯誤例子\n",
    "x = '123'\n",
    "print(f\"{x + 1}\")"
   ]
  },
  {
   "cell_type": "markdown",
   "id": "74ae9df1-fb90-425e-ace0-f04d5316e14e",
   "metadata": {},
   "source": [
    "**錯誤原因說明**  \n",
    "`x`是字串(str)型別，但是1是整數(int)型別，  \n",
    "在`f-string`裡，`{x + 1}`實際是執行`str + int`的運算，這會導致類型錯誤(TypeError)。  \n",
    "`+`對於字串代表「拼接」，但不能讓字串跟整數直接拼接。"
   ]
  },
  {
   "cell_type": "code",
   "execution_count": 7,
   "id": "5598d6b9-3f72-4541-af1c-dbd237d74a33",
   "metadata": {},
   "outputs": [
    {
     "name": "stdout",
     "output_type": "stream",
     "text": [
      "124\n"
     ]
    }
   ],
   "source": [
    "# 正確寫法 (如果是要數字計算)\n",
    "x = '123'\n",
    "y = int(x)\n",
    "print(f\"{y + 1}\")"
   ]
  },
  {
   "cell_type": "code",
   "execution_count": 12,
   "id": "65b0f17a-bffe-4820-8896-095d5f88f0c7",
   "metadata": {},
   "outputs": [
    {
     "name": "stdout",
     "output_type": "stream",
     "text": [
      "1231\n"
     ]
    }
   ],
   "source": [
    "# 正確寫法 (如果是需要字串)\n",
    "x = '123'\n",
    "print(f\"{x + '1'}\")\n",
    "\n",
    "# 用 '...' 將數字1轉成字串1"
   ]
  },
  {
   "cell_type": "markdown",
   "id": "783f4d85-4c2a-4d02-9647-93bab49a0c7a",
   "metadata": {},
   "source": [
    "**正確語法原則**  \n",
    "**f-string只是顯示格式**，內部`{}`仍然執行標準Python運算。  \n",
    "使用`+`時，請確認兩邊型別一致:\n",
    "+ `str + str` (正確)\n",
    "+ `int + int` (正確)\n",
    "+ `str + int` (錯誤，需轉型)"
   ]
  },
  {
   "cell_type": "markdown",
   "id": "a75c9e4a-ec2f-488a-ba4a-f7b1f2381cdc",
   "metadata": {},
   "source": [
    "#### f-string中`{}`裡的行為對照表：\n",
    "`{123 + 1}` → `結果: 124` (數字加法)  \n",
    "`{'123' + '1'}` → `結果: '1231'` (字串拼接)  \n",
    "`{'123' + 1}` → `錯誤結果: TypeError` (`str + int`不合法)  \n",
    "`{int('123'} + 1}` → `結果: 124` (將字串轉為整數，再相加)  \n",
    "`{str(123) + '1'}` → `結果: ‘1231` (將整數轉為字串，再拼接)  "
   ]
  },
  {
   "cell_type": "markdown",
   "id": "fe62361b-b2f5-4f25-a0a6-d4944a813f05",
   "metadata": {},
   "source": [
    "# Debug筆記 #007: 函式未回傳值導致`None`\n",
    "## (`return`語法 v.s. `print()`語法)\n",
    "\n",
    "+ 參考語法筆記: `010_Function_Definition_2025-06-09`"
   ]
  },
  {
   "cell_type": "code",
   "execution_count": 2,
   "id": "70b7b831-66d1-4c3f-b09b-c89dd667c700",
   "metadata": {},
   "outputs": [
    {
     "name": "stdout",
     "output_type": "stream",
     "text": [
      "奶油酥餅，你還是學生吧?\n",
      "None\n"
     ]
    }
   ],
   "source": [
    "# 錯誤例子 (進階)\n",
    "\n",
    "def greet_user(name, age):\n",
    "    if age < 18:\n",
    "        print(f\"{name}，你還是學生吧?\")\n",
    "    else:\n",
    "        print(f\"{name}，歡迎加入社會!\")\n",
    "\n",
    "print(greet_user(\"奶油酥餅\", 17))"
   ]
  },
  {
   "cell_type": "markdown",
   "id": "4f2a974c-bb16-47d9-829e-40b136545efd",
   "metadata": {},
   "source": [
    "**錯誤現象**  \n",
    "執行`print(greet_user(...))`時，畫面出現正確訊息後，又多印出一行`None`。\n",
    "\n",
    "**錯誤原因說明**  \n",
    "在函式`greet_user()`裡使用了`print()`而非`return`，  \n",
    "導致函式沒有回傳任何值，預設傳回`None`，  \n",
    "這個`None`被外層的`print()`顯示出來。"
   ]
  },
  {
   "cell_type": "markdown",
   "id": "5467b380-1567-44ad-9a55-e16257f5584b",
   "metadata": {},
   "source": [
    "**正確寫法**  \n",
    "改用`return`回傳字串給外層`print()`:  "
   ]
  },
  {
   "cell_type": "code",
   "execution_count": 4,
   "id": "2136e665-cebe-45bc-8973-3b07f0b5250e",
   "metadata": {},
   "outputs": [
    {
     "name": "stdout",
     "output_type": "stream",
     "text": [
      "奶油酥餅, 你還是學生吧?\n"
     ]
    }
   ],
   "source": [
    "#正確寫法\n",
    "\n",
    "def greet_user(name, age):\n",
    "    if age < 18:\n",
    "        return f\"{name}, 你還是學生吧?\"\n",
    "    else:\n",
    "        return f\"{name}, 歡迎加入社會!\"\n",
    "\n",
    "print(greet_user(\"奶油酥餅\", 17))"
   ]
  },
  {
   "cell_type": "markdown",
   "id": "6b54a2a2-5f81-4676-98f9-b54debd8da95",
   "metadata": {},
   "source": [
    "**語法概念重點說明**  \n",
    "`print()` : 直接在函示內輸入內容，但不會回傳結果  \n",
    "`return` : 回傳資料給呼叫者，可由外層`print()`印出  \n",
    "`函式回傳` : 如果函式沒有return，Python預設回傳`None`  "
   ]
  },
  {
   "cell_type": "code",
   "execution_count": null,
   "id": "e9d953ec-5cb1-4e0e-b561-c470e0d67982",
   "metadata": {},
   "outputs": [],
   "source": []
  }
 ],
 "metadata": {
  "kernelspec": {
   "display_name": "Python 3 (ipykernel)",
   "language": "python",
   "name": "python3"
  },
  "language_info": {
   "codemirror_mode": {
    "name": "ipython",
    "version": 3
   },
   "file_extension": ".py",
   "mimetype": "text/x-python",
   "name": "python",
   "nbconvert_exporter": "python",
   "pygments_lexer": "ipython3",
   "version": "3.12.7"
  }
 },
 "nbformat": 4,
 "nbformat_minor": 5
}
