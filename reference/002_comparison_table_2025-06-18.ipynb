{
 "cells": [
  {
   "cell_type": "markdown",
   "id": "8c9f0bf1-5d98-4f1e-9fb9-4cfc84815558",
   "metadata": {},
   "source": [
    "# Comparison Table (常見型別比較表)\n"
   ]
  },
  {
   "cell_type": "markdown",
   "id": "475d3054-6436-4c40-8e76-716e95f5801f",
   "metadata": {},
   "source": [
    "### Python常見資料型別比較表\n",
    "|類型|宣告語法範例|是否可變 (mutable)|是否有順序|是否可重複|索引方式|適合用途|\n",
    "|:--|:--|:--|:--|:--|:--|:--|\n",
    "|`string`|`'apple'`<br>或`\"apple\"`|❌ 不可變|✅ 有順序|✅ 可重複|`s[0]`|儲存文字、句子、單字等|\n",
    "|`tuple`|`('a', 'b', 'c')`|❌ 不可變|✅ 有順序|✅ 可重複|t[1]|存放固定資料組、保護不可改值|\n",
    "|`list`|['a', 'b', 'c']|✅ 可變|✅ 有順序|✅ 可重複|`l[2]`|動態資料、排序、增刪查改|\n",
    "|`dictionary`|{'a': 1, 'b': 2}|✅ 可變|✅ 有順序 (3.7+)|✅ 可重複value<br>❌ 不可重複key|d['a']|快速查找、統計、對應關係資料|"
   ]
  },
  {
   "cell_type": "markdown",
   "id": "2affd78f-db5b-466b-8bf3-f48ff8b402ae",
   "metadata": {},
   "source": [
    "#### 🔍 比較表中的「是否可重複」是什麼意思?\n",
    "|類型|是否可重複|說明|\n",
    "|:--|:--|:--|\n",
    "|`string`|✅ 可以|例如`'Hello'`中的字母`l`有兩個|\n",
    "|`tuple`|✅ 可以|`('a', 'b', 'a')`是合法的|\n",
    "|`list`|✅ 可以|[`1, 2, 1]`是合法的|\n",
    "|`dictionary`|⚠️ 有條件|✅ value可重複，但❌key不可重複 (後寫會覆蓋前寫)|"
   ]
  },
  {
   "cell_type": "markdown",
   "id": "a63d6550-1510-47fe-b310-34f7d1159427",
   "metadata": {},
   "source": [
    "#### 補充說明:  \n",
    "+ **有順序:** 是否記住我們加入元素的順序\n",
    "+ **索引方式:**\n",
    "  > + `string/tuple/list`用整數index: `[0]`\n",
    "  > + `dict`用key: `['apple']`"
   ]
  },
  {
   "cell_type": "markdown",
   "id": "30e3c185-5fe7-4ec8-8d61-167f95e791a1",
   "metadata": {},
   "source": [
    "### 📘 總結建議:\n",
    "|想要...|使用資料型別|\n",
    "|:--|:--|\n",
    "|儲存文字|`string`|\n",
    "|儲存一組不變資料|`tuple`|\n",
    "|儲存可變列表|`list`|\n",
    "|快速查值、作配對、做統計|`dictionary`|"
   ]
  },
  {
   "cell_type": "code",
   "execution_count": null,
   "id": "c570aa13-09bc-478c-9946-99c97bd56bd0",
   "metadata": {},
   "outputs": [],
   "source": []
  }
 ],
 "metadata": {
  "kernelspec": {
   "display_name": "Python 3 (ipykernel)",
   "language": "python",
   "name": "python3"
  },
  "language_info": {
   "codemirror_mode": {
    "name": "ipython",
    "version": 3
   },
   "file_extension": ".py",
   "mimetype": "text/x-python",
   "name": "python",
   "nbconvert_exporter": "python",
   "pygments_lexer": "ipython3",
   "version": "3.12.7"
  }
 },
 "nbformat": 4,
 "nbformat_minor": 5
}
