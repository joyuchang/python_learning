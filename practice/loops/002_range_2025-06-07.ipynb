{
 "cells": [
  {
   "cell_type": "markdown",
   "id": "cee45bc8-05d8-4d74-9eaf-7e4de333ca53",
   "metadata": {},
   "source": [
    "# range()的基本語法\n",
    "\n",
    "寫法及說明:  \n",
    "`range(n)` : 從`0`到`n-1` (預設從0開始)  \n",
    "`range(start, stop)` : 從`start`到`stop-1`  \n",
    "`range(start, stop, step)` : 從`start`開始、每次加`step`，直到小於`stop`  "
   ]
  },
  {
   "cell_type": "markdown",
   "id": "be6d29f0-972f-426c-9051-e80973c12f12",
   "metadata": {},
   "source": [
    "### 範例 : 我要從1開始數到10，怎麼寫?"
   ]
  },
  {
   "cell_type": "code",
   "execution_count": 1,
   "id": "abc90999-d397-493b-abf1-78404083a244",
   "metadata": {},
   "outputs": [
    {
     "name": "stdout",
     "output_type": "stream",
     "text": [
      "1\n",
      "2\n",
      "3\n",
      "4\n",
      "5\n",
      "6\n",
      "7\n",
      "8\n",
      "9\n",
      "10\n"
     ]
    }
   ],
   "source": [
    "#範例\n",
    "for i in range(1, 11):\n",
    "    print(i)"
   ]
  },
  {
   "cell_type": "markdown",
   "id": "d191d252-87b4-4c43-8e90-949882e65545",
   "metadata": {},
   "source": [
    "**範例說明: 為什麼是11?**  \n",
    "因為`range(a, b)`的範圍是: **包含a，但是不包含b**"
   ]
  },
  {
   "cell_type": "markdown",
   "id": "eed8f0e3-28dc-4f12-b377-bb573956d6c0",
   "metadata": {},
   "source": [
    "### 語法記憶卡\n",
    "\n",
    "+ 需要0~4 (5個數字) → `range(5)` → 實際產出: **0, 1, 2, 3, 4**\n",
    "+ 需要1~10 → `range(1, 11)` → 實際產出: **1, 2, ..., 10**\n",
    "+ 偶數2~10 → `range(2, 11, 2)` → 實際產出: **2, 4, 6, 8 ,10**\n",
    "+ 倒數5~1 → `range(5, 0, -1)` → 實際產出: **5, 4, 3, 2, 1**"
   ]
  },
  {
   "cell_type": "markdown",
   "id": "374c2dfa-2c80-484d-9659-b793eb3cf982",
   "metadata": {},
   "source": [
    "### 練習題 : 印出1~10並判斷是否為偶數"
   ]
  },
  {
   "cell_type": "code",
   "execution_count": 6,
   "id": "3dcedc25-2eaf-4e03-ab06-8e9035491fb5",
   "metadata": {},
   "outputs": [
    {
     "name": "stdout",
     "output_type": "stream",
     "text": [
      "1是奇數\n",
      "2是偶數\n",
      "3是奇數\n",
      "4是偶數\n",
      "5是奇數\n",
      "6是偶數\n",
      "7是奇數\n",
      "8是偶數\n",
      "9是奇數\n",
      "10是偶數\n"
     ]
    }
   ],
   "source": [
    "#練習\n",
    "for i in range(1, 11):\n",
    "    if i % 2 == 0:\n",
    "        print(f\"{i}是偶數\")\n",
    "    else:\n",
    "        print(f\"{i}是奇數\")"
   ]
  },
  {
   "cell_type": "code",
   "execution_count": null,
   "id": "2249b464-38af-49b0-bd82-68f567627094",
   "metadata": {},
   "outputs": [],
   "source": []
  }
 ],
 "metadata": {
  "kernelspec": {
   "display_name": "Python 3 (ipykernel)",
   "language": "python",
   "name": "python3"
  },
  "language_info": {
   "codemirror_mode": {
    "name": "ipython",
    "version": 3
   },
   "file_extension": ".py",
   "mimetype": "text/x-python",
   "name": "python",
   "nbconvert_exporter": "python",
   "pygments_lexer": "ipython3",
   "version": "3.12.7"
  }
 },
 "nbformat": 4,
 "nbformat_minor": 5
}
