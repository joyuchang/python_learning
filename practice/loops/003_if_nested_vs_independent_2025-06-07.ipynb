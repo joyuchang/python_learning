{
 "cells": [
  {
   "cell_type": "markdown",
   "id": "27ed5e75-b12f-4cd4-a75d-d25a68659a45",
   "metadata": {},
   "source": [
    "# if()語法: nested(巢狀結構)和independent(獨立結構)比較\n",
    "\n",
    "`巢狀if結構` : 條件A成立後，再進一步判斷條件B  \n",
    "`獨立if結構` : 條件A、B是彼此獨立的、平行的邏輯"
   ]
  },
  {
   "cell_type": "markdown",
   "id": "a7abb10b-da95-4e4c-9368-32d0954f242b",
   "metadata": {},
   "source": [
    "### 範例 : 巢狀if結構"
   ]
  },
  {
   "cell_type": "code",
   "execution_count": 7,
   "id": "6faf6f7d-ed20-4b1e-b668-ba543e3b0c85",
   "metadata": {},
   "outputs": [
    {
     "name": "stdout",
     "output_type": "stream",
     "text": [
      "More than 1\n",
      "Less than 100\n"
     ]
    }
   ],
   "source": [
    "#範例 (巢狀if結構)\n",
    "x = 42\n",
    "if x > 1:\n",
    "    print('More than 1')\n",
    "    if x < 100:\n",
    "        print('Less than 100')"
   ]
  },
  {
   "cell_type": "markdown",
   "id": "d8bb9c98-9368-4b61-91ee-b780b02aea14",
   "metadata": {},
   "source": [
    "**範例說明 (巢狀if結構)**  \n",
    "結構: 第二個`if`在第一個`if`裡面 (有縮排)  \n",
    "執行條件: **只有 x > 1 成立時，才會檢查 x < 100**"
   ]
  },
  {
   "cell_type": "markdown",
   "id": "d270bcd3-764d-4e0a-bf83-f05170528526",
   "metadata": {},
   "source": [
    "### 範例 : 獨立if結構"
   ]
  },
  {
   "cell_type": "code",
   "execution_count": 12,
   "id": "9c3dec9f-4cb6-482b-8b5b-33b5b1aab65b",
   "metadata": {},
   "outputs": [
    {
     "name": "stdout",
     "output_type": "stream",
     "text": [
      "More than 1\n",
      "Less than 100\n"
     ]
    }
   ],
   "source": [
    "#範例 (獨立if結構)\n",
    "x = 42\n",
    "if x > 1:\n",
    "    print('More than 1')\n",
    "if x < 100:\n",
    "    print('Less than 100')"
   ]
  },
  {
   "cell_type": "markdown",
   "id": "044d8cdd-badb-46c4-98ae-8d84946a4236",
   "metadata": {},
   "source": [
    "**範例說明 (獨立if結構)**  \n",
    "結構: 兩個`if`是各自獨立的、平行的  \n",
    "執行條件: **不論 x > 1 是否成立，都會檢查 x < 100**"
   ]
  },
  {
   "cell_type": "markdown",
   "id": "fc81b27d-3096-4d8e-8104-784cce3f0bdc",
   "metadata": {},
   "source": [
    "### 範例 : 測試不同情境來看差異\n",
    "#### 情境 : 當 `x = -1`"
   ]
  },
  {
   "cell_type": "code",
   "execution_count": 14,
   "id": "25ef2000-8ec8-4c4e-9330-d543e74afd2c",
   "metadata": {},
   "outputs": [],
   "source": [
    "#範例 (巢狀if結構)\n",
    "x = -1\n",
    "if x > 1:\n",
    "    print('More than 1')\n",
    "    if x < 100:\n",
    "        print('Less than 100')"
   ]
  },
  {
   "cell_type": "markdown",
   "id": "fe7021da-c73f-4990-b72d-2b11029abe98",
   "metadata": {},
   "source": [
    "**範例說明 (巢狀if結構)**  \n",
    "不會印出任何東西，因為第一個if條件`x > 1`沒通過"
   ]
  },
  {
   "cell_type": "code",
   "execution_count": 13,
   "id": "64874a3d-a5d4-4856-b91a-0ae285553ccc",
   "metadata": {},
   "outputs": [
    {
     "name": "stdout",
     "output_type": "stream",
     "text": [
      "Less than 100\n"
     ]
    }
   ],
   "source": [
    "#範例 (獨立if結構)\n",
    "x = -1\n",
    "if x > 1:\n",
    "    print('More than 1')\n",
    "if x < 100:\n",
    "    print('Less than 100')"
   ]
  },
  {
   "cell_type": "markdown",
   "id": "5a138727-a5c9-4cc6-8cb9-8ace65dae895",
   "metadata": {},
   "source": [
    "**範例說明 (獨立if結構)**  \n",
    "印出結果`Less than 100`，因為它不管前一個`if`，它自己獨立判斷`x < 100`"
   ]
  }
 ],
 "metadata": {
  "kernelspec": {
   "display_name": "Python 3 (ipykernel)",
   "language": "python",
   "name": "python3"
  },
  "language_info": {
   "codemirror_mode": {
    "name": "ipython",
    "version": 3
   },
   "file_extension": ".py",
   "mimetype": "text/x-python",
   "name": "python",
   "nbconvert_exporter": "python",
   "pygments_lexer": "ipython3",
   "version": "3.12.7"
  }
 },
 "nbformat": 4,
 "nbformat_minor": 5
}
