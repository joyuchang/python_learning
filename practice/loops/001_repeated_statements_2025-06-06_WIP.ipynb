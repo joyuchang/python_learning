{
 "cells": [
  {
   "cell_type": "markdown",
   "id": "dc92c81e-9a67-426a-aebf-456b46850dd3",
   "metadata": {},
   "source": [
    "# Repeated Statements (重複語法，又稱作迴圈`loop`)  \n",
    "\n",
    "重複語法(Repeated Statements)是用來**讓程式碼在滿足特定條件下自動執行多次**，  \n",
    "是自動化邏輯與資料處理的基礎結構。\n",
    "\n",
    "### Repeated Statements 組成通常包含:\n",
    "\n",
    "##### 1. `while 迴圈` (Indefinite Loop 不確定性迴圈)\n",
    "&nbsp;&nbsp;&nbsp;&nbsp;&nbsp;&nbsp;&nbsp;&nbsp; 在條件為真時，反覆執行指定的程式區塊，適合用於不確定重複次數的情境。  \n",
    "&nbsp;&nbsp;&nbsp;&nbsp;&nbsp;&nbsp;&nbsp;&nbsp; **補充:** 1.1 `while True` 無限迴圈\n",
    "##### 2. `for 迴圈` (Definite Loop 確定性迴圈)\n",
    "&nbsp;&nbsp;&nbsp;&nbsp;&nbsp;&nbsp;&nbsp;&nbsp; 針對序列（如串列、字串、range）逐一取值並執行操作，適用於已知結構或固定範圍的重複。  \n",
    "\n",
    "##### 3. `break 語句`\n",
    "&nbsp;&nbsp;&nbsp;&nbsp;&nbsp;&nbsp;&nbsp;&nbsp; 終止整個迴圈：提早跳出當前的迴圈，通常搭配條件判斷使用，能終止`while`或`for`的進行。  \n",
    "\n",
    "##### 4. `continue 語句` (未完成)\n",
    "&nbsp;&nbsp;&nbsp;&nbsp;&nbsp;&nbsp;&nbsp;&nbsp; 跳過當次迴圈剩餘的程式碼，直接開始下一輪判斷，常用於過濾或略過特定資料。  \n",
    "\n"
   ]
  },
  {
   "cell_type": "markdown",
   "id": "7cd701bb-f316-4f94-9f1d-a2342d3b17ec",
   "metadata": {},
   "source": [
    "## 1. `while 迴圈`:\n",
    "\n",
    "### 語法結構:\n",
    "\n",
    "`while` 條件式:  \n",
    "&nbsp;&nbsp;&nbsp;&nbsp;&nbsp;`執行的程式區塊` (需縮排)  \n",
    "+ 意思是每次檢查條件，**只要是True就重複執行**；如果是False，就跳出迴圈。"
   ]
  },
  {
   "cell_type": "code",
   "execution_count": 1,
   "id": "0c4af614-9550-4b82-8002-f52ed8ca9f21",
   "metadata": {},
   "outputs": [
    {
     "name": "stdout",
     "output_type": "stream",
     "text": [
      "5\n",
      "4\n",
      "3\n",
      "2\n",
      "1\n",
      "Blastoff!\n"
     ]
    }
   ],
   "source": [
    "#範例: 倒數計時器\n",
    "n = 5\n",
    "while n > 0:\n",
    "    print(n)\n",
    "    n = n - 1\n",
    "print('Blastoff!')"
   ]
  },
  {
   "cell_type": "markdown",
   "id": "f9165f83-3d42-4c11-9e4e-64b44dec590b",
   "metadata": {},
   "source": [
    "**範例說明**\n",
    "+ 一開始n是5，符合條件n>0\n",
    "+ 每跑一次print(n)，就把n減1\n",
    "+ 當n變成0，不再符合條件n>0，就跳出迴圈，印出Blastoff!"
   ]
  },
  {
   "cell_type": "markdown",
   "id": "a68bee77-43b7-4a57-a9bc-9e0b95aa020d",
   "metadata": {},
   "source": [
    "### 練習題  \n",
    "小狐狸有10元，每次花2元買紅豆餅。  \n",
    "\n",
    "請用while迴圈印出：\n",
    "+ 每次消費後的餘額\n",
    "+ 最後印出:「沒錢啦! 小狐狸回家了!」"
   ]
  },
  {
   "cell_type": "code",
   "execution_count": 11,
   "id": "73f24c69-8f7f-4353-8031-19c6399f8fdb",
   "metadata": {},
   "outputs": [
    {
     "name": "stdout",
     "output_type": "stream",
     "text": [
      "還有 10 元!\n",
      "還有 8 元!\n",
      "還有 6 元!\n",
      "還有 4 元!\n",
      "還有 2 元!\n",
      "沒錢啦! 小狐狸回家了!\n"
     ]
    }
   ],
   "source": [
    "#練習題\n",
    "money = 10\n",
    "while money > 0:\n",
    "    print(\"還有\", money, \"元!\")\n",
    "    money = money - 2\n",
    "print(\"沒錢啦! 小狐狸回家了!\")"
   ]
  },
  {
   "cell_type": "markdown",
   "id": "706114d7-740c-4244-9c2a-921cc3bf899f",
   "metadata": {},
   "source": [
    "關於 **print(\"還有\", money, \"元!\")** 的變化，可查閱**Debug筆記003: SyntaxError - print()字串str結合錯誤**。"
   ]
  },
  {
   "cell_type": "markdown",
   "id": "745378d7-c938-4936-9cd8-91cad6c7ae77",
   "metadata": {},
   "source": [
    "### 補充: 1.1 `while True`無限迴圈\n",
    "\n",
    "#### 語法說明:\n",
    "在Python中，`while`迴圈的執行條件可以是任何布林值 (`True`或`False`)。  \n",
    "當條件是`True`時，就會不斷執行，直到某個時機主動使用`break`跳出迴圈。  \n",
    "\n",
    "這種寫法稱為**無限迴圈 (infinite loop)**，常見用途如下：  \n",
    "+ 持續等待使用者輸入`直到`輸入某個指令 (如 `done`)\n",
    "+ 持續處理資料直到滿足終止條件\n",
    "+ 設計互動式對話流程、選單系統等"
   ]
  },
  {
   "cell_type": "code",
   "execution_count": 2,
   "id": "f706f602-71e8-45a0-b775-7c2b5fccd811",
   "metadata": {},
   "outputs": [
    {
     "name": "stdin",
     "output_type": "stream",
     "text": [
      "請輸入文字(輸入done結束):  Hi\n"
     ]
    },
    {
     "name": "stdout",
     "output_type": "stream",
     "text": [
      "你輸入的是: Hi\n"
     ]
    },
    {
     "name": "stdin",
     "output_type": "stream",
     "text": [
      "請輸入文字(輸入done結束):  done\n"
     ]
    },
    {
     "name": "stdout",
     "output_type": "stream",
     "text": [
      "結束程式\n"
     ]
    }
   ],
   "source": [
    "# 範例 (直到輸入 done 才停止)\n",
    "\n",
    "while True:\n",
    "    line = input(\"請輸入文字(輸入done結束): \")\n",
    "    if line == 'done':\n",
    "        break\n",
    "    print(\"你輸入的是:\", line)\n",
    "print(\"結束程式\")"
   ]
  },
  {
   "cell_type": "markdown",
   "id": "f3fb7ea1-d176-4f71-adb4-727b508188ac",
   "metadata": {},
   "source": [
    "**範例說明:**\n",
    "1. `while True:` → 開啟無限迴圈，會一直執行下去；\n",
    "2. `input()` → 讀取使用者輸入；\n",
    "3. `if line == 'done'` → 判斷是否輸入結束的指令；\n",
    "4. 如果輸入的是`done`，則`break`跳出整個`while`迴圈；\n",
    "5. 如果輸入的不是`done`，就印出使用者輸入的內容`line`；\n",
    "6. 當跳出迴圈後，印出「結束程式」。\n",
    "\n",
    "**注意事項:**\n",
    "+ 無限迴圈一定要搭配`break`才能安全結束，否則會陷入永遠不停止的狀態；\n",
    "+ `while True`常與使用者輸入、條件判斷、資料過濾搭配使用；\n",
    "+ 請注意避免忘記跳出條件，否則會造成死循環 (infinite loop crash)。"
   ]
  },
  {
   "cell_type": "markdown",
   "id": "b6e34642-75cf-477f-b470-8fdfbb3cc3fb",
   "metadata": {},
   "source": [
    "## 2. `for 迴圈`:\n",
    "### 語法結構:\n",
    "`for` 變數 `in` 序列:  \n",
    "&nbsp;&nbsp;&nbsp;&nbsp;&nbsp;&nbsp;&nbsp;&nbsp; 程式區塊 (需要縮排)  "
   ]
  },
  {
   "cell_type": "code",
   "execution_count": 3,
   "id": "60daae5b-2622-40ff-aa79-5f1411c19dd5",
   "metadata": {},
   "outputs": [
    {
     "name": "stdout",
     "output_type": "stream",
     "text": [
      "5\n",
      "4\n",
      "3\n",
      "2\n",
      "1\n",
      "Blastoff!\n"
     ]
    }
   ],
   "source": [
    "# 範例\n",
    "for i in [5, 4, 3, 2, 1]:\n",
    "    print(i)\n",
    "print('Blastoff!')"
   ]
  },
  {
   "cell_type": "code",
   "execution_count": 7,
   "id": "9728ce25-1d48-44f6-b05a-7c2bc55ea56f",
   "metadata": {},
   "outputs": [
    {
     "name": "stdout",
     "output_type": "stream",
     "text": [
      "Happy New Year! Joseph\n",
      "Happy New Year! Glenn\n",
      "Happy New Year! Sally\n",
      "Done!\n"
     ]
    }
   ],
   "source": [
    "# 範例\n",
    "friends = ['Joseph', 'Glenn', 'Sally']\n",
    "for name in friends:\n",
    "    print('Happy New Year!', name)\n",
    "print('Done!')"
   ]
  },
  {
   "cell_type": "markdown",
   "id": "5291e67a-fae7-4ee4-ac90-08150d13abde",
   "metadata": {},
   "source": [
    "### 進一步說明:\n",
    "`for` 變數 `in` 序列:  \n",
    "&nbsp;&nbsp;&nbsp;&nbsp;&nbsp;&nbsp;&nbsp;&nbsp; 程式區塊 (需要縮排)  \n",
    "\n",
    "+ `變數(variable)`: 每次迴圈中代表目前元素的變數；\n",
    "+ `序列(sequence)`: 可以是`list`、`string`、`range()`、`tuple`等；\n",
    "+ 每次迴圈會依序取出一個元素給`變數`，並執行一次縮排區域內的程式。\n",
    "\n",
    "### 補充說明:\n",
    "在這裡，`序列(sequence)`是指**可以一個一個取出裡面元素**的資料型態，常見包括：  \n",
    "+ `list`: [ 3, 5, 7 ] → `(最常見的序列類型)`\n",
    "+ `string`: \"banana\" → `其實字串也是序列(字母序)`\n",
    "+ `range()`: range(5)，指數字0~4 → `常搭配for使用`\n",
    "+ `tuple`: ( 1, 2, 3 ) → `類似list但不可變`"
   ]
  },
  {
   "cell_type": "code",
   "execution_count": 12,
   "id": "86b7385d-5244-4715-bf72-25dfceffab93",
   "metadata": {},
   "outputs": [
    {
     "name": "stdout",
     "output_type": "stream",
     "text": [
      "Before -1\n",
      "9 9\n",
      "41 41\n",
      "41 12\n",
      "41 3\n",
      "74 74\n",
      "74 15\n",
      "After 74\n"
     ]
    }
   ],
   "source": [
    "# 範例 (找出最大值)\n",
    "\n",
    "largest_so_far = -1\n",
    "print('Before', largest_so_far)\n",
    "\n",
    "for the_num in [9, 41, 12, 3, 74, 15]:\n",
    "    if the_num > largest_so_far:\n",
    "        largest_so_far = the_num\n",
    "    print(largest_so_far, the_num)\n",
    "\n",
    "print('After', largest_so_far)"
   ]
  },
  {
   "cell_type": "markdown",
   "id": "3c7bd0dc-ca89-45d0-8be4-a26b0e4f5f24",
   "metadata": {},
   "source": [
    "**範例語法結構說明:**  \n",
    "`largest_so_far = -1` : 初始化一個變數，用來儲存「目前最大的值」  \n",
    "`for the_num in [9, 41, 12, 3, 74, 15]:` : 逐一取出清單中的每一個數字  \n",
    "`if the_num > largest_so_far:` : 如果目前的數字比「最大值」還大  \n",
    "`largest_so_far = the_num` : 就更新最大值  \n",
    "`print(largest_so_far, the_num)` : 印出每次迴圈時，目前的最大值和當次數字  \n",
    "`print('After', largest_so_far)` : 印出最終的最大值結果  \n",
    "\n",
    "**範例小結:**  \n",
    "這是一個「**使用`for`迴圈 + 條件判斷`if`**」的典型結構，適合處理：\n",
    "+ 找最大值、找最小值\n",
    "+ 統計特定條件的資料\n",
    "+ 過濾、分類、搜尋等任務"
   ]
  },
  {
   "cell_type": "markdown",
   "id": "90b83467-9933-4a21-a87b-8c0b69005e99",
   "metadata": {},
   "source": [
    "## 3. `break語句`:\n",
    "### 語法說明:\n",
    "+ `break`是控制迴圈流程的語句。\n",
    "+ 當執行到`break`**會立刻跳出整個迴圈(無論是`while`或是`for`)**，而不再執行後續的迴圈內容。\n",
    "+ 常與條件判斷式(如`if`)結合使用，用來提早結束迴圈流程。"
   ]
  },
  {
   "cell_type": "markdown",
   "id": "3df23de5-958a-4576-8290-445e0bdc5ae7",
   "metadata": {},
   "source": [
    "### 🔁 與`while`的搭配:\n",
    "+ 通常用在`while True:`這類無限迴圈中，搭配`break`作為結束條件。"
   ]
  },
  {
   "cell_type": "code",
   "execution_count": 1,
   "id": "bae896c1-2eab-49cd-8e05-d096bfc3e5c1",
   "metadata": {},
   "outputs": [
    {
     "name": "stdin",
     "output_type": "stream",
     "text": [
      ">  done\n"
     ]
    },
    {
     "name": "stdout",
     "output_type": "stream",
     "text": [
      "Done!\n"
     ]
    }
   ],
   "source": [
    "# 範例\n",
    "\n",
    "while True:\n",
    "    line = input('> ')\n",
    "    if line == 'done':\n",
    "        break\n",
    "    print(line)\n",
    "print('Done!')"
   ]
  },
  {
   "cell_type": "markdown",
   "id": "68e09c6a-0954-41b9-a3bc-3d25af7603f4",
   "metadata": {},
   "source": [
    "### 🔁 與`for`的搭配:\n",
    "+ 用來在特定條件達成時，提早結束`for`迴圈。"
   ]
  },
  {
   "cell_type": "code",
   "execution_count": 2,
   "id": "77235b6c-0d4d-4c25-83f8-df18d9fec85c",
   "metadata": {},
   "outputs": [
    {
     "name": "stdout",
     "output_type": "stream",
     "text": [
      "1\n",
      "2\n"
     ]
    }
   ],
   "source": [
    "# 範例\n",
    "\n",
    "for n in [ 1, 2, 3, 4, 5 ]:\n",
    "    if n == 3:\n",
    "        break\n",
    "    print(n)"
   ]
  },
  {
   "cell_type": "code",
   "execution_count": null,
   "id": "6e6d3683-37a5-4209-ae72-9c43303bb107",
   "metadata": {},
   "outputs": [],
   "source": []
  }
 ],
 "metadata": {
  "kernelspec": {
   "display_name": "Python 3 (ipykernel)",
   "language": "python",
   "name": "python3"
  },
  "language_info": {
   "codemirror_mode": {
    "name": "ipython",
    "version": 3
   },
   "file_extension": ".py",
   "mimetype": "text/x-python",
   "name": "python",
   "nbconvert_exporter": "python",
   "pygments_lexer": "ipython3",
   "version": "3.12.7"
  }
 },
 "nbformat": 4,
 "nbformat_minor": 5
}
