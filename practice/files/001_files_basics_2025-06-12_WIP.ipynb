{
 "cells": [
  {
   "cell_type": "markdown",
   "id": "06a22dc9-ec74-4a30-ac5b-c207c8147884",
   "metadata": {},
   "source": [
    "# Files Basics (檔案處理基本語法)\n",
    "\n",
    "Python中的基本檔案操作方法，包括讀取(read)、寫入(write)、追加(append)文字檔。  \n",
    "主要使用的函式為`open()`，並配合`with`語法處理檔案資源的自動關閉。"
   ]
  },
  {
   "cell_type": "markdown",
   "id": "c9fa0835-9034-4cee-be79-e5985f2555cf",
   "metadata": {},
   "source": [
    "### 語法說明:\n",
    "+ `open('filename', 'mode')` → 開啟檔案的基本函式\n",
    "+ `with open('filename', 'mode') as f:` → 推薦方式，確保使用完後會自動關閉檔案，避免資源外洩\n",
    "\n",
    "### Modes:\n",
    "|模式|說明||\n",
    "|:--|--:|:--|\n",
    "|`'w'`|write:|寫入模式，會清空內容並重寫，若檔案不存在則建立新檔|\n",
    "|`'r'`|read:|讀取模式，若檔案不存在會報錯|\n",
    "|`'a'`|append:|追加模式，內容會接在原檔末尾|"
   ]
  },
  {
   "cell_type": "markdown",
   "id": "4cf0ba9b-5088-4d69-868d-089694001238",
   "metadata": {},
   "source": [
    "### 常見語法結構:"
   ]
  },
  {
   "cell_type": "markdown",
   "id": "09dfa968-52a3-4738-bc85-1a511e05f01a",
   "metadata": {},
   "source": [
    "#### 1. 開啟並讀取檔案 `(read)`"
   ]
  },
  {
   "cell_type": "code",
   "execution_count": 7,
   "id": "5e5a7bc2-b0cc-4569-b2b9-2656dede5732",
   "metadata": {},
   "outputs": [],
   "source": [
    "f = open('data.txt', 'r')\n",
    "content = f.read()\n",
    "f.close()"
   ]
  },
  {
   "cell_type": "markdown",
   "id": "c24f8e64-bc70-4e93-a528-160939d2c7bd",
   "metadata": {},
   "source": [
    "#### 2. 使用`with`自動關閉檔案 (推薦)"
   ]
  },
  {
   "cell_type": "code",
   "execution_count": 8,
   "id": "766ac8b5-fb28-466c-a734-e03d29bd7303",
   "metadata": {},
   "outputs": [],
   "source": [
    "with open ('data.txt', 'r') as f:\n",
    "    content = f.read()"
   ]
  },
  {
   "cell_type": "markdown",
   "id": "6d11f3e8-ed83-44ff-8fda-607cfc1d7cf3",
   "metadata": {},
   "source": [
    "#### 3. 寫入檔案 (覆蓋)"
   ]
  },
  {
   "cell_type": "code",
   "execution_count": 14,
   "id": "e4910d06-72cf-4745-bdc2-a1b4e6251dda",
   "metadata": {},
   "outputs": [],
   "source": [
    "with open('output.txt', 'w') as f:\n",
    "    f.write(\"We are just passing through.\\n\")"
   ]
  },
  {
   "cell_type": "markdown",
   "id": "f78c57b2-da1f-42bc-a719-cabed9592570",
   "metadata": {},
   "source": [
    "#### 4. 追加內容到檔案"
   ]
  },
  {
   "cell_type": "code",
   "execution_count": 15,
   "id": "5bcd05a4-8034-45d6-90c6-6495ac424cb2",
   "metadata": {},
   "outputs": [],
   "source": [
    "with open('output.txt', 'a') as f:\n",
    "    f.write(\"Our purpose here.\\n\")"
   ]
  },
  {
   "cell_type": "markdown",
   "id": "b7da3fe2-a86f-4242-b6cc-397d47e519df",
   "metadata": {},
   "source": [
    "#### 5. 一行一行讀 (常用於大型檔案)"
   ]
  },
  {
   "cell_type": "code",
   "execution_count": 16,
   "id": "2e703b1b-1873-4709-9aab-2ce7e1b578ce",
   "metadata": {},
   "outputs": [
    {
     "name": "stdout",
     "output_type": "stream",
     "text": [
      "Two roads diverged in a yellow wood,\n",
      "And sorry I could not travel both\n",
      "And be one traveler, long I stood\n",
      "And looked down one as far as I could\n",
      "To where it bent in the undergrowth;\n",
      "\n",
      "Then took the other, as just as fair,\n",
      "And having perhaps the better claim,\n",
      "Because it was grassy and wanted wear;\n",
      "Though as for that the passing there\n",
      "Had worn them really about the same,\n",
      "\n",
      "And both that morning equally lay\n",
      "In leaves no step had trodden black.\n",
      "Oh, I kept the first for another day!\n",
      "Yet knowing how way leads on to way,\n",
      "I doubted if I should ever come back.\n",
      "\n",
      "I shall be telling this with a sigh\n",
      "Somewhere ages and ages hence:\n",
      "Two roads diverged in a wood, and I—\n",
      "I took the one less traveled by,\n",
      "And that has made all the difference.\n"
     ]
    }
   ],
   "source": [
    "with open('data.txt', 'r') as f:\n",
    "    for line in f:\n",
    "        print(line.strip())"
   ]
  },
  {
   "cell_type": "code",
   "execution_count": null,
   "id": "a30b7a66-b3be-49a5-b349-b138162cb891",
   "metadata": {},
   "outputs": [],
   "source": []
  }
 ],
 "metadata": {
  "kernelspec": {
   "display_name": "Python 3 (ipykernel)",
   "language": "python",
   "name": "python3"
  },
  "language_info": {
   "codemirror_mode": {
    "name": "ipython",
    "version": 3
   },
   "file_extension": ".py",
   "mimetype": "text/x-python",
   "name": "python",
   "nbconvert_exporter": "python",
   "pygments_lexer": "ipython3",
   "version": "3.12.7"
  }
 },
 "nbformat": 4,
 "nbformat_minor": 5
}
