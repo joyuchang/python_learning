{
 "cells": [
  {
   "cell_type": "markdown",
   "id": "5aac4bd1-7f7d-4be8-a5f3-036dd754a3d8",
   "metadata": {},
   "source": [
    "# Lists Basics (List基本概念)"
   ]
  },
  {
   "cell_type": "markdown",
   "id": "13bc4973-e340-4e3b-a127-300a2e0d709b",
   "metadata": {},
   "source": [
    "### 工具類型:\n",
    "1. `.sort()`\n",
    "2. `sorted()`\n",
    "3. `.split()`\n",
    "4. `.remove()`"
   ]
  },
  {
   "cell_type": "markdown",
   "id": "1fd571c6-17dd-4ff5-a4e0-560d7f6c9f34",
   "metadata": {},
   "source": [
    "## 1. `.sort()`:\n",
    "`.sort()`是list的「排序方法」，這個方法是**直接在原來的list上動手改變順序**，從小排到大、或是從A排到Z。  \n",
    "+ `.sort()`是一種**in-place method (原地改動的方法)**；它不會回傳一個新的list，而是**直接把原來的list排序好**；\n",
    "+ `.sort()`只能用在「list」這種類型上，會根據字串資料類型自動排序(字串→字母順序；數字→數字大小)；\n",
    "+ 使用`.sort()`之後，**原list就改變了**，所以如果想保留原本的順序，需改用`sorted()`。"
   ]
  },
  {
   "cell_type": "code",
   "execution_count": 3,
   "id": "e6377b69-fddc-4e83-96a6-76c81b49a501",
   "metadata": {},
   "outputs": [
    {
     "name": "stdout",
     "output_type": "stream",
     "text": [
      "[1, 2, 4, 9]\n"
     ]
    }
   ],
   "source": [
    "# 範例: .sort()的使用\n",
    "\n",
    "nums = [ 4, 2, 9 ,1 ]\n",
    "nums.sort()\n",
    "print(nums)"
   ]
  },
  {
   "cell_type": "markdown",
   "id": "e5981674-1a5f-4d39-87e8-27f150ae996d",
   "metadata": {},
   "source": [
    "## 2. `sorted()`:\n",
    "`sorted()`是**Python的內建函式**，可以幫我們把「任何可排序的序列(list)」變成**一個新的、排序後的list**。"
   ]
  },
  {
   "cell_type": "code",
   "execution_count": 8,
   "id": "bbb1f4e7-4ce9-41c5-ad9d-e139403573ec",
   "metadata": {},
   "outputs": [
    {
     "name": "stdout",
     "output_type": "stream",
     "text": [
      "[3, 1, 2]\n",
      "[1, 2, 3]\n"
     ]
    }
   ],
   "source": [
    "# 範例: 排序list，不改變原資料\n",
    "\n",
    "nums = [ 3, 1, 2 ]\n",
    "nums1 = sorted(nums)\n",
    "\n",
    "print(nums)     # [ 3, 1, 2 ] ← 原本的list沒變 (變數nums)\n",
    "print(nums1)    # [ 1, 2, 3 ] ← 新的list (變數nums1)"
   ]
  },
  {
   "cell_type": "code",
   "execution_count": 1,
   "id": "d9e43b40-67b3-49ec-bbf0-a301fd14b79a",
   "metadata": {},
   "outputs": [
    {
     "name": "stdout",
     "output_type": "stream",
     "text": [
      "['a', 'e', 'i', 'j', 'm']\n"
     ]
    }
   ],
   "source": [
    "# 範例: 排序字串 (按字母)\n",
    "\n",
    "name = 'jamie'\n",
    "print(sorted(name))"
   ]
  },
  {
   "cell_type": "code",
   "execution_count": 3,
   "id": "cf7f8f36-88db-4dc0-8979-ff15e4f390fe",
   "metadata": {},
   "outputs": [
    {
     "name": "stdout",
     "output_type": "stream",
     "text": [
      "[10, 7, 3, 1]\n"
     ]
    }
   ],
   "source": [
    "# 範例: 搭配 reverse=True 參數 (倒序)\n",
    "\n",
    "nums = [ 10, 3, 7 ,1 ]\n",
    "desc = sorted(nums, reverse=True)\n",
    "print(desc)"
   ]
  },
  {
   "cell_type": "markdown",
   "id": "41c03f74-029c-4ec9-ad0f-92f912f22de2",
   "metadata": {},
   "source": [
    "**補充說明:**  \n",
    "`reverse=True`語法，可以讓序列從大排到小 (倒序)"
   ]
  },
  {
   "cell_type": "markdown",
   "id": "6b89e67d-a8f1-454e-a987-3099de8400f0",
   "metadata": {},
   "source": [
    "## `.sort()`和`sorted()`的差異補充說明:\n",
    "| 功能比較 | `.sort()` | `sorted()` |\n",
    "|:-----------|:-----------|:-----------|\n",
    "| 是函式還是方法? | ✅ 方法 (只能用在list) | ✅ 函式 (可用在任何序列) |\n",
    "| 是否改變原list? | ✅ 原地改變list | ❌ 不改變原list |\n",
    "| 是否有回傳值? | ❌ 不回傳，會回傳`None` | ✅ 會回傳新的排序後的list|\n",
    "| 適用類型? | 僅限list | 可用在list、tuple、string、dict keys...|\n",
    "\n",
    "> **結論:**  \n",
    "> 如果要直接改變原本的list → 用`.sort()`  \n",
    "> 如果**不想動到原本的list**，又想要排序結果 → 用`sorted()`  "
   ]
  },
  {
   "cell_type": "markdown",
   "id": "34af1551-6634-410e-aa4f-04117e0f2610",
   "metadata": {},
   "source": [
    "# List Comprehension (串列生成式)\n",
    "即**快速建立list的簡單語法**。  \n",
    "\n",
    "### 語法結構:\n",
    "> `[ 表達式 for 元素 in 可迭代物件 if 條件]`  \n",
    "> `[ expression for item in iterable if condition]`"
   ]
  },
  {
   "cell_type": "code",
   "execution_count": 4,
   "id": "60140aa1-c380-4e54-96ef-2f51f75829a2",
   "metadata": {},
   "outputs": [
    {
     "name": "stdout",
     "output_type": "stream",
     "text": [
      "[0, 1, 4, 9, 16]\n"
     ]
    }
   ],
   "source": [
    "# 範例 1 : 平方數\n",
    "\n",
    "squares = [x**2 for x in range(5)]\n",
    "print(squares)"
   ]
  },
  {
   "cell_type": "code",
   "execution_count": 6,
   "id": "56fb02dd-e7d4-4a72-8d13-77d2f1319aa9",
   "metadata": {},
   "outputs": [
    {
     "name": "stdout",
     "output_type": "stream",
     "text": [
      "[0, 2, 4, 6, 8]\n"
     ]
    }
   ],
   "source": [
    "# 範例 2 : 過濾偶數\n",
    "\n",
    "evens = [x for x in range(10) if x % 2 == 0]\n",
    "print(evens)"
   ]
  },
  {
   "cell_type": "code",
   "execution_count": 8,
   "id": "d76b7afa-9a58-40fb-af32-5556e8240ec4",
   "metadata": {},
   "outputs": [
    {
     "name": "stdout",
     "output_type": "stream",
     "text": [
      "[0, 1, 4, 9, 16]\n"
     ]
    }
   ],
   "source": [
    "# 範例 3 : 原本要這樣寫\n",
    "\n",
    "result = []\n",
    "for x in range(5):\n",
    "    result.append(x**2)\n",
    "print(result)"
   ]
  },
  {
   "cell_type": "code",
   "execution_count": 14,
   "id": "28de2420-59d8-46f9-8ffe-112944e1e4df",
   "metadata": {},
   "outputs": [
    {
     "name": "stdout",
     "output_type": "stream",
     "text": [
      "[0, 1, 4, 9, 16]\n"
     ]
    }
   ],
   "source": [
    "# 範例 3 : 可以這樣寫 (list comprehension的方法)\n",
    "\n",
    "result = [x**2 for x in range(5)]\n",
    "print(result)"
   ]
  },
  {
   "cell_type": "code",
   "execution_count": 15,
   "id": "866f794e-1281-4d99-9923-72a2ef56dad0",
   "metadata": {},
   "outputs": [
    {
     "name": "stdout",
     "output_type": "stream",
     "text": [
      "[0, 1, 4, 9, 16]\n"
     ]
    }
   ],
   "source": [
    "# 範例 3 : 更縮短的寫法\n",
    "print([x**2 for x in range(5)])"
   ]
  },
  {
   "cell_type": "code",
   "execution_count": null,
   "id": "2ee96151-2dbd-4b8d-a705-cc4bdc9f2864",
   "metadata": {},
   "outputs": [],
   "source": []
  }
 ],
 "metadata": {
  "kernelspec": {
   "display_name": "Python 3 (ipykernel)",
   "language": "python",
   "name": "python3"
  },
  "language_info": {
   "codemirror_mode": {
    "name": "ipython",
    "version": 3
   },
   "file_extension": ".py",
   "mimetype": "text/x-python",
   "name": "python",
   "nbconvert_exporter": "python",
   "pygments_lexer": "ipython3",
   "version": "3.12.7"
  }
 },
 "nbformat": 4,
 "nbformat_minor": 5
}
