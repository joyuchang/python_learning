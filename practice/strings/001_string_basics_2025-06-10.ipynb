{
 "cells": [
  {
   "cell_type": "markdown",
   "id": "d70c5bf6-acfb-4096-b2f2-636f54238f60",
   "metadata": {},
   "source": [
    "# `String Basics` 字串基礎概念"
   ]
  },
  {
   "cell_type": "markdown",
   "id": "7cab4a1d-41ed-4a33-a84b-f3bc11c115db",
   "metadata": {},
   "source": [
    "### 基礎概念:\n",
    "\n",
    "##### 1. 字串是序列 (Sequence)\n",
    "- 可以用索引取值: `line[0]`, `line[-1]`\n",
    "- 所以從 0 開始\n",
    "- 可以搭配 `len()` 來避免錯誤\n",
    "\n",
    "##### 2. 字串條件判斷\n",
    "- `if line[0] == '#'`: 檢查開頭字元\n",
    "- `if len(line) > 0`: 避免空字串報錯"
   ]
  },
  {
   "cell_type": "code",
   "execution_count": 1,
   "id": "fc35a30e-2bf4-4f93-802f-7beafae1aa0c",
   "metadata": {},
   "outputs": [
    {
     "name": "stdin",
     "output_type": "stream",
     "text": [
      ">  1\n"
     ]
    },
    {
     "name": "stdout",
     "output_type": "stream",
     "text": [
      "1\n"
     ]
    },
    {
     "name": "stdin",
     "output_type": "stream",
     "text": [
      ">  0\n"
     ]
    },
    {
     "name": "stdout",
     "output_type": "stream",
     "text": [
      "0\n"
     ]
    },
    {
     "name": "stdin",
     "output_type": "stream",
     "text": [
      ">  \n"
     ]
    },
    {
     "name": "stdout",
     "output_type": "stream",
     "text": [
      "\n"
     ]
    },
    {
     "name": "stdin",
     "output_type": "stream",
     "text": [
      ">  #\n",
      ">  done\n"
     ]
    },
    {
     "name": "stdout",
     "output_type": "stream",
     "text": [
      "Done!\n"
     ]
    }
   ],
   "source": [
    "# 範例 (過濾以 # 開頭的輸入)\n",
    "\n",
    "while True:\n",
    "    line = input('> ')\n",
    "    if len(line) > 0 and line[0] == '#':\n",
    "        continue\n",
    "    if line == 'done':\n",
    "        break\n",
    "    print(line)\n",
    "print('Done!')\n"
   ]
  },
  {
   "cell_type": "markdown",
   "id": "156aa816-7591-48a5-8ef2-c9cfeecf680b",
   "metadata": {},
   "source": [
    "### 練習題:\n",
    "+ 輸入一串字，印出第一個字\n",
    "+ 判斷字串是否以特定字元開頭\n",
    "+ 如果輸入為空，就提示使用者「請輸入一些文字」\n",
    "\n",
    "**練習題建議:**  \n",
    "讓使用者輸入文字，  \n",
    "如果最後一個字元是`!`表示這是一句「命令」，  \n",
    "請印出「收到指令: xxx」，  \n",
    "否則就印出「普通訊息」。"
   ]
  },
  {
   "cell_type": "code",
   "execution_count": 9,
   "id": "82bd6ad4-c6a7-4dc4-8bd5-592f138f749f",
   "metadata": {},
   "outputs": [
    {
     "name": "stdin",
     "output_type": "stream",
     "text": [
      "請指示 : 請坐\n"
     ]
    },
    {
     "name": "stdout",
     "output_type": "stream",
     "text": [
      "普通訊息:  請坐\n"
     ]
    }
   ],
   "source": [
    "# 練習題\n",
    "\n",
    "while True:\n",
    "    line = input('請指示 :')\n",
    "    if len(line) == 0:\n",
    "        print(\"請輸入一些文字。\")\n",
    "        continue\n",
    "    if line[-1] == '!':\n",
    "        print(f\"收到指令: {line}\")\n",
    "        break\n",
    "    else:\n",
    "        print(\"普通訊息: \", line)\n",
    "        break"
   ]
  },
  {
   "cell_type": "code",
   "execution_count": null,
   "id": "a16927ef-4075-4cbc-be06-f34223533ffb",
   "metadata": {},
   "outputs": [],
   "source": []
  }
 ],
 "metadata": {
  "kernelspec": {
   "display_name": "Python 3 (ipykernel)",
   "language": "python",
   "name": "python3"
  },
  "language_info": {
   "codemirror_mode": {
    "name": "ipython",
    "version": 3
   },
   "file_extension": ".py",
   "mimetype": "text/x-python",
   "name": "python",
   "nbconvert_exporter": "python",
   "pygments_lexer": "ipython3",
   "version": "3.12.7"
  }
 },
 "nbformat": 4,
 "nbformat_minor": 5
}
