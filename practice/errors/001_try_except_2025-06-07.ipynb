{
 "cells": [
  {
   "cell_type": "markdown",
   "id": "ec073703-3822-40e3-8094-cda891ce01cd",
   "metadata": {},
   "source": [
    "# try/except例外處理語法 (Exception Handling)\n",
    "\n",
    "### 語法說明\n",
    "在程式執行中，有時候使用者輸入錯誤或遇到無法計算的情況（像是除以0、輸入文字當數字），會導致整個程式中斷(traceback)。  \n",
    "使用`try/except`可以讓程式遇到錯誤時不會崩潰(blow up)，而是執行指定的「補救」動作，讓程式繼續安全地往下執行。"
   ]
  },
  {
   "cell_type": "markdown",
   "id": "7dc115ac-999a-48e5-93d2-9370af50fb2a",
   "metadata": {},
   "source": [
    "### 語法格式:\n",
    "\n",
    "#### 固定結構  \n",
    "`try:`  \n",
    "&nbsp;&nbsp;&nbsp;&nbsp;&nbsp;&nbsp;&nbsp;&nbsp;*# 嘗試執行的程式*  \n",
    "`except 錯誤類型:`  \n",
    "&nbsp;&nbsp;&nbsp;&nbsp;&nbsp;&nbsp;&nbsp;&nbsp;*# 如果發生對應錯誤，執行這段*  \n",
    "\n",
    "#### 擴充結構  \n",
    "`try:`  \n",
    "&nbsp;&nbsp;&nbsp;&nbsp;&nbsp;&nbsp;&nbsp;&nbsp;...  \n",
    "`except ValueError:`  \n",
    "&nbsp;&nbsp;&nbsp;&nbsp;&nbsp;&nbsp;&nbsp;&nbsp;print(\"請輸入數字!\")  \n",
    "`except ZeroDivisionError:`  \n",
    "&nbsp;&nbsp;&nbsp;&nbsp;&nbsp;&nbsp;&nbsp;&nbsp;print(\"不能除以0!\")  "
   ]
  },
  {
   "cell_type": "code",
   "execution_count": 1,
   "id": "dc642822-01b2-465e-ab56-21a1aed8797f",
   "metadata": {},
   "outputs": [
    {
     "name": "stdin",
     "output_type": "stream",
     "text": [
      "請輸入工作時數: 六\n"
     ]
    },
    {
     "name": "stdout",
     "output_type": "stream",
     "text": [
      "請輸入正確的數字哦!\n"
     ]
    }
   ],
   "source": [
    "#範例\n",
    "try:\n",
    "    hours = float(input(\"請輸入工作時數:\"))\n",
    "    rate = float(input(\"請輸入時薪:\"))\n",
    "    pay = hours * rate\n",
    "    print(\"薪資是:\", pay)\n",
    "except:\n",
    "    print(\"請輸入正確的數字哦!\")"
   ]
  },
  {
   "cell_type": "markdown",
   "id": "6819dc21-e619-46e7-9b50-47f190c16623",
   "metadata": {},
   "source": [
    "**範例說明**  \n",
    "`try:`區塊裡是**可能出錯**的程式碼  \n",
    "如果一切正常，程式就會執行並印出薪資；  \n",
    "如果輸入了像是`\"Hello\"`這樣的非數字，就會跳到`except:`區塊，印出錯誤提示。  \n",
    "這樣使用者就不會看到traceback，而是看到友善的錯誤訊息。"
   ]
  },
  {
   "cell_type": "markdown",
   "id": "64e3862f-5338-4d48-9a60-1ce800623f51",
   "metadata": {},
   "source": [
    "### 練習題\n",
    "使用`try/except`語法，處理使用者輸入非數字時產生的錯誤。\n",
    "\n",
    "**題目說明:**\n",
    "1. 請使用`input()`讓使用者輸入一個數字。\n",
    "2. 用`float()`把它轉成浮點數。\n",
    "3. 如果轉換成功，印出「你輸入的數字是: X」。\n",
    "4. 如果輸入的不是數字(例如: abc)，請印出「請輸入數字哦!」。"
   ]
  },
  {
   "cell_type": "code",
   "execution_count": 11,
   "id": "488d4042-3d31-4bf7-b860-d00f9550fe99",
   "metadata": {},
   "outputs": [
    {
     "name": "stdin",
     "output_type": "stream",
     "text": [
      "請輸入數字 : 6\n"
     ]
    },
    {
     "name": "stdout",
     "output_type": "stream",
     "text": [
      "你輸入的數字是 : 6.0\n"
     ]
    }
   ],
   "source": [
    "#練習\n",
    "try:\n",
    "    x = float(input(\"請輸入數字 :\"))\n",
    "    print(f\"你輸入的數字是 : {x}\")\n",
    "except:\n",
    "    print(\"請輸入數字哦!\")"
   ]
  },
  {
   "cell_type": "markdown",
   "id": "c9f3dad4-8663-49b6-96d9-c6bf3dac0097",
   "metadata": {},
   "source": [
    "### 練習題\n",
    "讓使用者輸入一個年齡(數字)，並印出「你明年幾歲」的訊息。  \n",
    "如果使用者輸入的是文字，則使用`except ValueError`印出提示訊息。  \n",
    "\n",
    "**題目說明:**  \n",
    "1. 使用`input()`輸入年齡。\n",
    "2. 用`int()`嘗試將它轉成整數。\n",
    "3. 如果成功，就印出: 「你明年就 X 歲了!」。\n",
    "4. 如果輸入的不是數字(例如: `apple`)，請印出：「年齡請輸入數字哦!」。"
   ]
  },
  {
   "cell_type": "code",
   "execution_count": 14,
   "id": "ca1d1d61-19a6-48af-a110-472fe7030d81",
   "metadata": {},
   "outputs": [
    {
     "name": "stdin",
     "output_type": "stream",
     "text": [
      "請輸入年齡 : 34\n"
     ]
    },
    {
     "name": "stdout",
     "output_type": "stream",
     "text": [
      "你明年就 35 歲了!\n"
     ]
    }
   ],
   "source": [
    "#練習\n",
    "try:\n",
    "    age = int(input(\"請輸入年齡 :\"))\n",
    "    print(f\"你明年就 {age + 1} 歲了!\")\n",
    "except ValueError:\n",
    "    print(\"年齡請輸入數字哦!\")"
   ]
  },
  {
   "cell_type": "markdown",
   "id": "732b6e2c-bb25-40bc-b752-29e420ca062f",
   "metadata": {},
   "source": [
    "### 練習題 (進階)\n",
    "\n",
    "**包含`Exception Type`練習**  \n",
    "(搭配練習筆記: **009_Exception_Type_2025-06-07.ipynb**)  \n",
    "\n",
    "請寫一段程式:  \n",
    "1. 使用者輸入兩個數字 (分子numerator、分母denominator)\n",
    "2. 顯示兩數相除的結果\n",
    "3. 如果輸入不是數字，顯示錯誤提示「請輸入數字哦!」\n",
    "4. 如果除以0，顯示錯誤提示「除數不能為0哦!」\n",
    "\n",
    "**提示:** 可以搭配`except ValueError:`和`except ZeroDivisionError:`分開處理錯誤。"
   ]
  },
  {
   "cell_type": "code",
   "execution_count": 8,
   "id": "a72978ec-c918-4a00-9fa3-085efffa2f06",
   "metadata": {},
   "outputs": [
    {
     "name": "stdin",
     "output_type": "stream",
     "text": [
      "請輸入分子: 6\n",
      "請輸入分母: 20\n"
     ]
    },
    {
     "name": "stdout",
     "output_type": "stream",
     "text": [
      "結果是: 0.3\n"
     ]
    }
   ],
   "source": [
    "#練習\n",
    "\n",
    "try:\n",
    "    numerator = float(input(\"請輸入分子:\"))\n",
    "    denominator = float(input(\"請輸入分母:\"))\n",
    "    result = numerator / denominator\n",
    "    print(f\"結果是: {result}\")\n",
    "\n",
    "except ValueError:\n",
    "    print(\"請輸入數字哦!\")\n",
    "\n",
    "except ZeroDivisionError:\n",
    "    print(\"分母不能為 0 哦!\")\n"
   ]
  },
  {
   "cell_type": "markdown",
   "id": "7d26c46d-fdd9-4374-a4ee-3ae140588dd7",
   "metadata": {},
   "source": [
    "**練習題(進階)解說**  \n",
    "`try:` : 嘗試執行使用者輸入和計算。將輸入的字串轉為浮點數，再進行除法運算。  \n",
    "`except ValueError:` : 如果使用者輸入非數字，例如`abc`，就會觸發這個錯誤，Python會跳到這裡顯示提示訊息。  \n",
    "`except ZeroDivisionError:` : 如果分母是0，就會出現除以0的錯誤，Python會跳來這一段處理。  \n",
    "`print(f\"...\")` : 使用**f-string**格式化輸出，將結果嵌入在字串中顯示。  \n",
    "\n",
    "**技巧補充**\n",
    "+ `float(input(...))` : 是一個**容易出錯的點**，所以依定要放在`try`裡面。\n",
    "+ `except`可以針對不同錯誤類型分開寫，這樣可以給使用者更明確的錯誤訊息。"
   ]
  },
  {
   "cell_type": "code",
   "execution_count": null,
   "id": "826c5dda-fc41-46ba-a821-bfb1e12e06a5",
   "metadata": {},
   "outputs": [],
   "source": []
  }
 ],
 "metadata": {
  "kernelspec": {
   "display_name": "Python 3 (ipykernel)",
   "language": "python",
   "name": "python3"
  },
  "language_info": {
   "codemirror_mode": {
    "name": "ipython",
    "version": 3
   },
   "file_extension": ".py",
   "mimetype": "text/x-python",
   "name": "python",
   "nbconvert_exporter": "python",
   "pygments_lexer": "ipython3",
   "version": "3.12.7"
  }
 },
 "nbformat": 4,
 "nbformat_minor": 5
}
