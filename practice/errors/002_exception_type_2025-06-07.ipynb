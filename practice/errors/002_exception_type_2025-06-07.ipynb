{
 "cells": [
  {
   "cell_type": "markdown",
   "id": "b7999675-06ff-41c6-b431-86b75f765d8e",
   "metadata": {},
   "source": [
    "# Exception Type (錯誤類型)\n",
    "\n",
    "### 什麼是`except 錯誤類型:`?\n",
    "當Python程式在`try:`區塊中執行時發生錯誤，它會拋出(raise)一種「錯誤類型(Exception Type)」。  \n",
    "我們可以使用`except 某錯誤:`來攔截那種特定的錯誤並處理它。"
   ]
  },
  {
   "cell_type": "markdown",
   "id": "f3d8fb33-947a-4a25-b4fa-41843bfec8cd",
   "metadata": {},
   "source": [
    "### 常見的錯誤類型 (Exception Types) 說明:\n",
    "\n",
    "`ValueError` → 資料型態轉換錯誤(如將文字轉float) → `錯誤範例: float('abc')`  \n",
    "`ZeroDivisionError` → 嘗試除以0 → `錯誤範例: 5 / 0`  \n",
    "`TypeError` → 資料型態不和，例如數字 + 字串 → `錯誤範例: \"hello\" + 5`  \n",
    "`NameError` → 使用了不存在的變數名 → `錯誤範例: print(abc)`  \n",
    "`FileNotFoundError` → 試圖打開不存在的檔案 → `錯誤範例: open(\"missing.txt\")`"
   ]
  },
  {
   "cell_type": "markdown",
   "id": "140be376-dfff-4926-9683-42dfff600a30",
   "metadata": {},
   "source": [
    "### 語法格式:\n",
    "\n",
    "#### 固定結構  \n",
    "`try:`  \n",
    "&nbsp;&nbsp;&nbsp;&nbsp;&nbsp;&nbsp;&nbsp;&nbsp;*# 嘗試執行的程式*  \n",
    "`except 錯誤類型:`  \n",
    "&nbsp;&nbsp;&nbsp;&nbsp;&nbsp;&nbsp;&nbsp;&nbsp;*# 如果發生對應錯誤，執行這段*  \n",
    "\n",
    "#### 擴充結構  \n",
    "`try:`  \n",
    "&nbsp;&nbsp;&nbsp;&nbsp;&nbsp;&nbsp;&nbsp;&nbsp;...  \n",
    "`except ValueError:`  \n",
    "&nbsp;&nbsp;&nbsp;&nbsp;&nbsp;&nbsp;&nbsp;&nbsp;print(\"請輸入數字!\")  \n",
    "`except ZeroDivisionError:`  \n",
    "&nbsp;&nbsp;&nbsp;&nbsp;&nbsp;&nbsp;&nbsp;&nbsp;print(\"不能除以0!\")  "
   ]
  },
  {
   "cell_type": "code",
   "execution_count": null,
   "id": "ab91b75d-2be8-44c1-be58-a9217531f0b3",
   "metadata": {},
   "outputs": [],
   "source": []
  }
 ],
 "metadata": {
  "kernelspec": {
   "display_name": "Python 3 (ipykernel)",
   "language": "python",
   "name": "python3"
  },
  "language_info": {
   "codemirror_mode": {
    "name": "ipython",
    "version": 3
   },
   "file_extension": ".py",
   "mimetype": "text/x-python",
   "name": "python",
   "nbconvert_exporter": "python",
   "pygments_lexer": "ipython3",
   "version": "3.12.7"
  }
 },
 "nbformat": 4,
 "nbformat_minor": 5
}
