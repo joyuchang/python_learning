{
 "cells": [
  {
   "cell_type": "markdown",
   "id": "25ac3104-865a-4670-9313-4c31a2df03b1",
   "metadata": {},
   "source": [
    "# Conditional Statements ( if 條件語法)  \n",
    "### if 條件判斷式\n",
    "\n",
    "if 條件:  \n",
    "&nbsp;&nbsp;&nbsp;&nbsp;&nbsp;執行的程式區塊 (注意要縮排!!)"
   ]
  },
  {
   "cell_type": "code",
   "execution_count": 1,
   "id": "3e056aad-3441-4b90-967a-53db27e74359",
   "metadata": {},
   "outputs": [
    {
     "name": "stdout",
     "output_type": "stream",
     "text": [
      "Smaller\n",
      "Finis\n"
     ]
    }
   ],
   "source": [
    "#範例\n",
    "x = 5\n",
    "\n",
    "if x < 10:\n",
    "    print(\"Smaller\")\n",
    "\n",
    "if x > 20:\n",
    "    print(\"Bigger\")\n",
    "\n",
    "print(\"Finis\")"
   ]
  },
  {
   "cell_type": "markdown",
   "id": "235674d7-9f31-48dd-9636-3593e5019085",
   "metadata": {},
   "source": [
    "**範例說明**  \n",
    "if ➜ 如果條件成立，就執行縮排內的程式。\n",
    ": ➜ 條件語句後面一定要加冒號  \n",
    "縮排(indent) ➜ Python用「縮排」表示程式層級 (通常是四個空格)  \n",
    "\n",
    "**其他比較運算子**\n",
    "+ \\> ➜ 大於 (greater than)\n",
    "+ < ➜ 小於 (less than)\n",
    "+ == ➜ 等於 (equal to)\n",
    "+ != ➜ 不等於 (not equal to)\n",
    "+ \\>= ➜ 大於或等於 (greater than or equal)\n",
    "+ <= ➜ 小於或等於 (less than or equal)"
   ]
  },
  {
   "cell_type": "markdown",
   "id": "5858d6df-5b83-4d3f-ac52-57f13d80d693",
   "metadata": {},
   "source": [
    "### 練習題  \n",
    "使用者輸入一個溫度temp，藉此判斷今天的感覺：\n",
    "+ 如果temp大於等於30 ➜ 印出\"太熱了!\"\n",
    "+ 如果temp小於15 ➜ 印出\"太冷了!\"\n",
    "+ 最後印出\"今天狐狸出門了!\""
   ]
  },
  {
   "cell_type": "code",
   "execution_count": 6,
   "id": "713e9279-d377-4210-bfeb-6300d1c9845b",
   "metadata": {},
   "outputs": [
    {
     "name": "stdout",
     "output_type": "stream",
     "text": [
      "太冷了!\n",
      "今天狐狸出門了!\n"
     ]
    }
   ],
   "source": [
    "#練習題\n",
    "temp = 14\n",
    "if temp >= 30:\n",
    "    print(\"太熱了!\")\n",
    "if temp < 15:\n",
    "    print(\"太冷了!\")\n",
    "print(\"今天狐狸出門了!\")"
   ]
  },
  {
   "cell_type": "code",
   "execution_count": 10,
   "id": "49803b74-5826-4d65-a24c-95a19ca288b0",
   "metadata": {},
   "outputs": [
    {
     "name": "stdin",
     "output_type": "stream",
     "text": [
      "今天溫度幾度 : 28\n"
     ]
    },
    {
     "name": "stdout",
     "output_type": "stream",
     "text": [
      "溫度剛好!\n",
      "今天狐狸出門了!\n"
     ]
    }
   ],
   "source": [
    "#練習題: 搭配input()填寫溫度\n",
    "temp = float(input(\"今天溫度幾度 :\"))\n",
    "\n",
    "if temp >= 30:\n",
    "    print(\"太熱了!\")\n",
    "if temp < 15:\n",
    "    print(\"太冷了!\")\n",
    "if 15 <= temp < 30:\n",
    "    print(\"溫度剛好!\")\n",
    "\n",
    "print(\"今天狐狸出門了!\")"
   ]
  },
  {
   "cell_type": "markdown",
   "id": "82c00338-00d2-405f-ba73-09260141922e",
   "metadata": {},
   "source": [
    "# Conditional Statements 進階 ( if-elif-else 條件語法)  \n",
    "### if-elif-else 條件判斷式\n",
    "\n",
    "if 條件判斷式:  \n",
    "&nbsp;&nbsp;&nbsp;&nbsp;&nbsp;執行的程式區塊 (注意要縮排!!)  \n",
    "elif 條件判斷式:  \n",
    "&nbsp;&nbsp;&nbsp;&nbsp;&nbsp;執行的程式區塊 (注意要縮排!!)  \n",
    "else:  \n",
    "&nbsp;&nbsp;&nbsp;&nbsp;&nbsp;執行的程式區塊 (注意要縮排!!)"
   ]
  },
  {
   "cell_type": "code",
   "execution_count": 14,
   "id": "53f32e33-50a1-4f46-8f59-e50d77eef95d",
   "metadata": {},
   "outputs": [
    {
     "name": "stdin",
     "output_type": "stream",
     "text": [
      "今天溫度幾度 : 32\n"
     ]
    },
    {
     "name": "stdout",
     "output_type": "stream",
     "text": [
      "太熱了!\n",
      "今天狐狸出門了!\n"
     ]
    }
   ],
   "source": [
    "#範例: 接續以上if()搭配(input)的練習題，進階版語法\n",
    "\n",
    "#Step 1: 輸入溫度，並將input()的內容轉成float()\n",
    "temp = float(input(\"今天溫度幾度 :\"))\n",
    "\n",
    "#Step 2: if-elif-else條件判斷 (只會執行其中一個條件)\n",
    "if temp >= 30:\n",
    "    print(\"太熱了!\")\n",
    "elif temp < 15:\n",
    "    print(\"太冷了!\")\n",
    "else:\n",
    "    print(\"剛剛好!\")\n",
    "\n",
    "#Step 3: 無論如何都會出門\n",
    "print(\"今天狐狸出門了!\")"
   ]
  },
  {
   "cell_type": "markdown",
   "id": "f2201c65-8b90-4a2a-8fd8-cafcf581598d",
   "metadata": {},
   "source": [
    "# Conditional Statements 進階 ( if-elif-else 條件語法)  \n",
    "### if-elif-else 巢狀if的練習"
   ]
  },
  {
   "cell_type": "markdown",
   "id": "82cbb4dc-8289-4a0a-9b09-ee80e2b29689",
   "metadata": {},
   "source": [
    "### 練習題  \n",
    "考慮今天氣溫之外，還要**再根據天氣情況**來決定要不要出門散步:\n",
    "+ 如果是「晴天」 ➜ 小狐狸開心出門\n",
    "+ 如果是「下雨」 ➜ 小狐狸帶傘出門\n",
    "+ 如果是「颱風」 ➜ 小狐狸取消外出"
   ]
  },
  {
   "cell_type": "code",
   "execution_count": 26,
   "id": "b218ef99-d216-4fbf-b0b8-bf2dc91e5dbc",
   "metadata": {},
   "outputs": [
    {
     "name": "stdin",
     "output_type": "stream",
     "text": [
      "今天溫度幾度 : 23\n"
     ]
    },
    {
     "name": "stdout",
     "output_type": "stream",
     "text": [
      "天氣剛剛好!\n"
     ]
    },
    {
     "name": "stdin",
     "output_type": "stream",
     "text": [
      "今天的天氣是什麼(晴天/下雨/颱風) : \n"
     ]
    },
    {
     "name": "stdout",
     "output_type": "stream",
     "text": [
      "小狐狸不確定要不要出門，決定再等等看。\n"
     ]
    }
   ],
   "source": [
    "#練習題\n",
    "\n",
    "#第一層的條件\n",
    "temp = float(input(\"今天溫度幾度 :\"))\n",
    "\n",
    "if temp >= 30:\n",
    "    print(\"太熱了!\")\n",
    "elif temp < 15:\n",
    "    print(\"太冷了!\")\n",
    "else:\n",
    "    print(\"天氣剛剛好!\")\n",
    "\n",
    "    #第二層的獨立條件 (縮排: 只在天氣剛剛好的條件下，執行天氣的詢問)\n",
    "    weather = input(\"今天的天氣是什麼(晴天/下雨/颱風) :\")\n",
    "    \n",
    "    if weather == \"晴天\":\n",
    "        print(\"小狐狸開心出門散步!\")\n",
    "    elif weather == \"下雨\":\n",
    "        print(\"小狐狸帶傘出門散步!\")\n",
    "    elif weather == \"颱風\":\n",
    "        print(\"小狐狸取消外出!\")\n",
    "    else:\n",
    "        print(\"小狐狸不確定要不要出門，決定再等等看。\")"
   ]
  },
  {
   "cell_type": "markdown",
   "id": "8c2cb9d0-91a4-4919-abc1-be781cb7e09e",
   "metadata": {},
   "source": [
    "**補充說明**  \n",
    "`if-elif-else`具有 **條件判斷的排他性**，一旦有一個條件成立，Python就會執行該區域，**跳過後面的所有elif和else**。  \n",
    "這意味著即使後面還有符合的條件，也不會被執行。"
   ]
  },
  {
   "cell_type": "markdown",
   "id": "a85d392f-11b1-4ea6-9323-9ee2769f531f",
   "metadata": {},
   "source": [
    "### 範例: if-elif-else條件判斷的排他性\n",
    "哪一個結過永遠不會被印出來 ? (無論 x 是何數值)"
   ]
  },
  {
   "cell_type": "code",
   "execution_count": 2,
   "id": "aeb57026-5081-4ff8-8e61-50bcb5d71d6d",
   "metadata": {},
   "outputs": [
    {
     "name": "stdout",
     "output_type": "stream",
     "text": [
      "Below 20\n"
     ]
    }
   ],
   "source": [
    "#範例 (if-elif-else條件判斷的排他性)\n",
    "x = 9\n",
    "if x < 2:\n",
    "    print('Below 2')\n",
    "elif x < 20:\n",
    "    print('Below 20')\n",
    "elif x < 10:\n",
    "    print('Below 10')\n",
    "else:\n",
    "    print('Something else')"
   ]
  },
  {
   "cell_type": "markdown",
   "id": "9faccf79-3205-46ce-a6bd-dcac3c0c909f",
   "metadata": {},
   "source": [
    "**答案:** `Below 10`永遠不會被印出來。"
   ]
  },
  {
   "cell_type": "code",
   "execution_count": null,
   "id": "f0b030fc-1f83-47e3-bcc9-58decdea066e",
   "metadata": {},
   "outputs": [],
   "source": []
  }
 ],
 "metadata": {
  "kernelspec": {
   "display_name": "Python 3 (ipykernel)",
   "language": "python",
   "name": "python3"
  },
  "language_info": {
   "codemirror_mode": {
    "name": "ipython",
    "version": 3
   },
   "file_extension": ".py",
   "mimetype": "text/x-python",
   "name": "python",
   "nbconvert_exporter": "python",
   "pygments_lexer": "ipython3",
   "version": "3.12.7"
  }
 },
 "nbformat": 4,
 "nbformat_minor": 5
}
