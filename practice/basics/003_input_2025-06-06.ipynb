{
 "cells": [
  {
   "cell_type": "markdown",
   "id": "4f5431bb-0701-4372-8557-37ebe761b592",
   "metadata": {},
   "source": [
    "# Input() (「提示文字」語法)\n",
    "### 變數 = input(\"提示文字\")  \n",
    "\n",
    "把使用者輸入的內容 ➜ 存進一個變數裡\n",
    "並在螢幕上顯示「提示文字」\n",
    "\n",
    "+ input() ➜ 接收使用者輸入 (永遠是字串型別)\n",
    "+ \"提示文字\" ➜ 螢幕上要顯示的說明文字，讓使用者知道該輸入什麼\n",
    "+ 變數 = ... ➜ 把輸入的內容存進變數中，以便後續使用"
   ]
  },
  {
   "cell_type": "code",
   "execution_count": 6,
   "id": "6f23f365-13c0-4663-b48b-1aa5320663d4",
   "metadata": {},
   "outputs": [
    {
     "name": "stdin",
     "output_type": "stream",
     "text": [
      "請輸入你的名字 : Astra\n"
     ]
    },
    {
     "name": "stdout",
     "output_type": "stream",
     "text": [
      "你好，Astra\n"
     ]
    }
   ],
   "source": [
    "#範例\n",
    "name = input(\"請輸入你的名字 :\")\n",
    "print(\"你好，\" + name)"
   ]
  },
  {
   "cell_type": "markdown",
   "id": "03154344-dfc2-4a76-99d6-7f4a04b28385",
   "metadata": {},
   "source": [
    "**補充用語**\n",
    "+ input : 使用者輸入/輸入函式\n",
    "+ prompt : 提示文字/輸入提示\n",
    "+ assign to : 指定給變數\n",
    "+ return value : 傳回值(及傳回結果)"
   ]
  },
  {
   "cell_type": "markdown",
   "id": "5357a2c5-d18b-465d-990e-e47cbd78427b",
   "metadata": {},
   "source": [
    "### 練習題\n",
    "1. 使用者輸入「工作時數」➜ 存成變數hours\n",
    "2. 使用者輸入「每小時薪水」➜ 存成變數rate\n",
    "3. 計算總薪水 = hours × rate\n",
    "4. 印出總薪水(格式: \"Pay: 總薪水\")"
   ]
  },
  {
   "cell_type": "code",
   "execution_count": 11,
   "id": "4c1736d9-8b02-427c-910c-d74f5e34bc0b",
   "metadata": {},
   "outputs": [
    {
     "name": "stdin",
     "output_type": "stream",
     "text": [
      "請輸入你的工作時數 : 35\n",
      "請輸入你的每小時薪水 : 2.75\n"
     ]
    },
    {
     "name": "stdout",
     "output_type": "stream",
     "text": [
      "Pay: 96.25\n"
     ]
    }
   ],
   "source": [
    "#練習題\n",
    "hours = float(input(\"請輸入你的工作時數 :\"))\n",
    "rate = float(input(\"請輸入你的每小時薪水 :\"))\n",
    "payment = hours * rate\n",
    "print(\"Pay:\", payment)"
   ]
  },
  {
   "cell_type": "markdown",
   "id": "81bdada0-137b-46de-a000-dda667436aa3",
   "metadata": {},
   "source": [
    "**練習題說明**\n",
    "\n",
    "為什麼要用float()語法?  \n",
    "因為input()讀取進來的內容是「字串String」，所以要用float()，將其改為浮點數(有小數點的數字)。\n",
    "\n",
    "**補充說明**\n",
    "+ int() ➜ 整數，例如年齡、張數、件數。\n",
    "+ float() ➜ 有小數點的數字，例如時薪、金額、比率。"
   ]
  },
  {
   "cell_type": "code",
   "execution_count": 13,
   "id": "37aebaa6-4dbe-438f-9896-500f7e7058a5",
   "metadata": {},
   "outputs": [
    {
     "name": "stdin",
     "output_type": "stream",
     "text": [
      "Europe floor? 3\n"
     ]
    },
    {
     "name": "stdout",
     "output_type": "stream",
     "text": [
      "US floor 4\n"
     ]
    }
   ],
   "source": [
    "#練習題(電梯樓層)\n",
    "x = input('Europe floor?')\n",
    "y = int(x) + 1\n",
    "print('US floor', y)"
   ]
  },
  {
   "cell_type": "code",
   "execution_count": null,
   "id": "7f1e1f1b-325d-41ea-9660-1b660066f02d",
   "metadata": {},
   "outputs": [],
   "source": []
  }
 ],
 "metadata": {
  "kernelspec": {
   "display_name": "Python 3 (ipykernel)",
   "language": "python",
   "name": "python3"
  },
  "language_info": {
   "codemirror_mode": {
    "name": "ipython",
    "version": 3
   },
   "file_extension": ".py",
   "mimetype": "text/x-python",
   "name": "python",
   "nbconvert_exporter": "python",
   "pygments_lexer": "ipython3",
   "version": "3.12.7"
  }
 },
 "nbformat": 4,
 "nbformat_minor": 5
}
