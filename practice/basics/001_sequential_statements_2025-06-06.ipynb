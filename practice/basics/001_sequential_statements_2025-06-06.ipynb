{
 "cells": [
  {
   "cell_type": "markdown",
   "id": "820c407f-8f38-497f-8cd6-9bac7dac7402",
   "metadata": {},
   "source": [
    "# Sequential Statements (順序語法)"
   ]
  },
  {
   "cell_type": "code",
   "execution_count": 6,
   "id": "4cff688c-4b5e-4b18-9da1-38d67a360d40",
   "metadata": {},
   "outputs": [
    {
     "name": "stdout",
     "output_type": "stream",
     "text": [
      "2\n",
      "2\n",
      "4\n"
     ]
    }
   ],
   "source": [
    "#範例\n",
    "x = 2\n",
    "print(x)\n",
    "\n",
    "X = x + 2\n",
    "print(x)\n",
    "print(X)"
   ]
  },
  {
   "cell_type": "markdown",
   "id": "0f89f381-f3c4-479a-b7bc-362651877631",
   "metadata": {},
   "source": [
    "**範例解說**\n",
    "1. x = 2 : 這行把數字2存進變數x\n",
    "2. 第一個print(x) : 印出x的值 → 得出結果是 2\n",
    "3. X = x + 2 : 這是另一個變數X，它是x的值加上2\n",
    "4. 第二個print(x) : x仍然是原來的2，因為我只改變了X，而沒有改變x\n",
    "5. 第三個print(X) : X的值是x的值加上二，得出4"
   ]
  },
  {
   "cell_type": "markdown",
   "id": "6f2c995d-2216-40f4-867d-f21f8891b4ce",
   "metadata": {},
   "source": [
    "### 練習題  \n",
    "1. 有一個變數price是50\n",
    "2. 有一個變數quantity是3\n",
    "3. 用這兩個變數計算出total(總金額)\n",
    "4. 印出total的值"
   ]
  },
  {
   "cell_type": "code",
   "execution_count": 8,
   "id": "3871311f-fd8b-47fb-bd92-31e2d05bc127",
   "metadata": {},
   "outputs": [
    {
     "name": "stdout",
     "output_type": "stream",
     "text": [
      "150\n"
     ]
    }
   ],
   "source": [
    "#練習題\n",
    "price = 50\n",
    "quantity = 3\n",
    "total = price * quantity\n",
    "print(total)"
   ]
  },
  {
   "cell_type": "code",
   "execution_count": null,
   "id": "4cedd6b6-5b42-4f08-b021-06be2b2f6cb2",
   "metadata": {},
   "outputs": [],
   "source": []
  }
 ],
 "metadata": {
  "kernelspec": {
   "display_name": "Python 3 (ipykernel)",
   "language": "python",
   "name": "python3"
  },
  "language_info": {
   "codemirror_mode": {
    "name": "ipython",
    "version": 3
   },
   "file_extension": ".py",
   "mimetype": "text/x-python",
   "name": "python",
   "nbconvert_exporter": "python",
   "pygments_lexer": "ipython3",
   "version": "3.12.7"
  }
 },
 "nbformat": 4,
 "nbformat_minor": 5
}
