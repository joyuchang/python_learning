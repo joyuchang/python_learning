{
 "cells": [
  {
   "cell_type": "markdown",
   "id": "4f9165af-a83b-4cb8-b0dc-0fef75b3eb5e",
   "metadata": {},
   "source": [
    "# f-string (「格式化字串」語法)  \n",
    "\n",
    "+ f-string是Python中的 **「格式化字串」語法**\n",
    "+ 用來在字串中 **直接插入變數、數值、運算式或函式回傳值**\n",
    "+ 插入的位置使用 **大括號\" { } \"** 括起來\n",
    "+ Python會自動把 **變數(variable)轉成字串(string)顯示**，但 **原變數(variable)型保持不變**  \n",
    "\n",
    "f-string的好處是語法簡潔、可讀性高、可以自動將變數轉成文字輸出，不需要使用 + 或 str()。  \n",
    "\n",
    "### 語法結構\n",
    "**f\"文字 {變數或計算式} 文字\"**"
   ]
  },
  {
   "cell_type": "markdown",
   "id": "baede266-1a20-4ef5-a202-8ac1ef780bce",
   "metadata": {},
   "source": [
    "### 語法記憶卡\n",
    "\n",
    "+ 插入變數 ➜ f\"{money}\"\n",
    "+ 插入運算結果 ➜ f\"{a + b}\"\n",
    "+ 插入函式回傳值 ➜ f\"{name.upper()}\"\n",
    "+ 控制格式 (補0) ➜ f\"{num:02}\"\n",
    "+ 浮點數顯示2位 ➜ f\"{price:.2f}\""
   ]
  },
  {
   "cell_type": "code",
   "execution_count": 1,
   "id": "f4cedac7-37a2-4c65-971b-bd6a27728f9f",
   "metadata": {},
   "outputs": [
    {
     "name": "stdout",
     "output_type": "stream",
     "text": [
      "小狐狸今天身上還有88元。\n"
     ]
    }
   ],
   "source": [
    "#範例\n",
    "name = \"小狐狸\"\n",
    "money = 88\n",
    "print(f\"{name}今天身上還有{money}元。\")"
   ]
  },
  {
   "cell_type": "markdown",
   "id": "a6fca1f2-1377-4bd4-853d-bf845028b996",
   "metadata": {},
   "source": [
    "**範例說明**\n",
    "+ f \"...\" ➜ 開頭加上 f 表示這是**格式化字串**\n",
    "+ {name} 和 {money} 是變數，會自動被代入字串中\n",
    "+ 不需要加逗號 , ，也不需要手動轉成字串str()"
   ]
  },
  {
   "cell_type": "markdown",
   "id": "36d22b75-1365-4cd5-83cd-c24d44645f07",
   "metadata": {},
   "source": [
    "### 練習題  \n",
    "\n",
    "請讓使用者輸入一個數字表示「今天氣溫」，然後用f-string印出:  \n",
    "今天的溫度是 25 度，小狐狸決定出門。"
   ]
  },
  {
   "cell_type": "code",
   "execution_count": 5,
   "id": "a7692742-1fd9-4e45-8c88-d7ea58750df7",
   "metadata": {},
   "outputs": [
    {
     "name": "stdin",
     "output_type": "stream",
     "text": [
      "今天氣溫 : 25\n"
     ]
    },
    {
     "name": "stdout",
     "output_type": "stream",
     "text": [
      "今天的溫度是 25 度，小狐狸決定出門\n"
     ]
    }
   ],
   "source": [
    "#練習題\n",
    "temp = input(\"今天氣溫 :\")\n",
    "print(f\"今天的溫度是 {temp} 度，小狐狸決定出門\")"
   ]
  },
  {
   "cell_type": "markdown",
   "id": "431f028d-f964-4962-bec9-62d8706d4dd8",
   "metadata": {},
   "source": [
    "### 練習題  \n",
    "請輸入你的名字與年齡，然後用f-string印出以下句子:  \n",
    "你好，我是 小狐狸公主，我今年 35 歲了!"
   ]
  },
  {
   "cell_type": "code",
   "execution_count": 7,
   "id": "37f267f1-c80d-4e63-baf9-6f21b170dc1e",
   "metadata": {},
   "outputs": [
    {
     "name": "stdin",
     "output_type": "stream",
     "text": [
      "請輸入你的名字 : 小狐狸公主\n",
      "請輸入你的年齡 : 35\n"
     ]
    },
    {
     "name": "stdout",
     "output_type": "stream",
     "text": [
      "你好，我是 小狐狸公主，我今年 35 歲了!\n"
     ]
    }
   ],
   "source": [
    "#練習題\n",
    "name = input(\"請輸入你的名字 :\")\n",
    "age = input(\"請輸入你的年齡 :\")\n",
    "print(f\"你好，我是 {name}，我今年 {age} 歲了!\")"
   ]
  },
  {
   "cell_type": "markdown",
   "id": "a29bdaa8-b2e7-4e39-8c93-7bb46a5b1562",
   "metadata": {},
   "source": [
    "**練習題說明**  \n",
    "+ 使用者輸入兩組文字 (input()傳回字串)\n",
    "+ 用f-string將數值放入句子中\n",
    "+ 不用手動轉型，如果要進階處理數值也可以加上int()或float()"
   ]
  },
  {
   "cell_type": "markdown",
   "id": "5a2e6c8f-1f23-4ac1-89e2-5223467c0d76",
   "metadata": {},
   "source": [
    "### 練習題 (進階)  \n",
    "\n",
    "Step 1. 請讓使用者輸入年齡，然後用f-string印出第一個句子:  \n",
    "&nbsp;&nbsp;&nbsp;&nbsp;&nbsp;&nbsp;&nbsp;&nbsp;&nbsp;&nbsp;&nbsp;&nbsp;**你好，我是小狐狸，今年17歲了。**  \n",
    "Step 2. 如果年齡低於18歲，用if()印出第二個句子:  \n",
    "&nbsp;&nbsp;&nbsp;&nbsp;&nbsp;&nbsp;&nbsp;&nbsp;&nbsp;&nbsp;&nbsp;&nbsp;**17歲還是學生吧?**\n",
    "\n",
    "+ 練習input()接收使用者輸入\n",
    "+ 練習int()將文字轉成整數\n",
    "+ 使用f-string將變數插入字串中\n",
    "+ 結合if條件式進行判斷與回應"
   ]
  },
  {
   "cell_type": "code",
   "execution_count": 10,
   "id": "41bb2a47-a99f-4942-96cb-8c589a8bc95a",
   "metadata": {},
   "outputs": [
    {
     "name": "stdin",
     "output_type": "stream",
     "text": [
      "請輸入年齡 : 17\n"
     ]
    },
    {
     "name": "stdout",
     "output_type": "stream",
     "text": [
      "你好，我是小狐狸，今年17歲了。\n",
      "17歲還是學生吧?\n"
     ]
    }
   ],
   "source": [
    "#練習題 (進階)\n",
    "age = int(input(\"請輸入年齡 :\"))\n",
    "print(f\"你好，我是小狐狸，今年{age}歲了。\")\n",
    "if age < 18:\n",
    "    print(f\"{age}歲還是學生吧?\")"
   ]
  },
  {
   "cell_type": "markdown",
   "id": "18803dfa-dd22-432e-a153-f2239e7348fd",
   "metadata": {},
   "source": [
    "**練習題說明 (進階)**  \n",
    "1. input(\"請輸入年齡 :\")\n",
    "    + 從使用者輸入年齡 (例如: 25)\n",
    "    + 注意: 輸入進來的值，預設是**string(文字)**\n",
    "2. int(....)\n",
    "    + 把輸入的字串轉換成**整數**，才能進行數字運算與判斷\n",
    "3. f-string\n",
    "    + 使用 f\"...\"插入變數 {age}，產生個人化的輸出句子\n",
    "    + 例如輸入 25 ➜ 會輸出: **你好，我是小狐狸，今年 25 歲了。**\n",
    "4. if age < 18\n",
    "    + 判斷是否未成年，如果是，就印出第二句話\n",
    "    + 否則，就什麼都不做"
   ]
  },
  {
   "cell_type": "markdown",
   "id": "68b011b3-59ac-4261-9b00-19d487e2609d",
   "metadata": {},
   "source": [
    "### 範例 (進階)  \n",
    "\n",
    "如果想讓溫度是數字可以做運算:"
   ]
  },
  {
   "cell_type": "code",
   "execution_count": 8,
   "id": "e4cc335a-cffd-440f-9939-7bd08e08893d",
   "metadata": {},
   "outputs": [
    {
     "name": "stdin",
     "output_type": "stream",
     "text": [
      "請輸入今天的溫度 : 25\n"
     ]
    },
    {
     "name": "stdout",
     "output_type": "stream",
     "text": [
      "今天的溫度是 25.0 度，小狐狸覺得舒服。\n"
     ]
    }
   ],
   "source": [
    "#範例 (進階)\n",
    "temp = float(input(\"請輸入今天的溫度 :\"))\n",
    "print(f\"今天的溫度是 {temp} 度，小狐狸覺得{'熱' if temp > 30 else '舒服'}。\")"
   ]
  },
  {
   "cell_type": "markdown",
   "id": "e322a2fd-90e3-497c-9cb6-b575ff223d3f",
   "metadata": {},
   "source": [
    "### 練習題 (進階)\n",
    "請輸入今天的降雨機率(百分比)，系統會幫小狐狸判斷是否需要帶傘，並印出一段說明文字。  \n",
    "\n",
    "請輸入今天的降雨機率 (%) : 80  \n",
    "今天的降雨機率是 80.0%，小狐狸決定帶傘。"
   ]
  },
  {
   "cell_type": "code",
   "execution_count": 17,
   "id": "79ac7006-caac-4f8a-b9d9-0df960936637",
   "metadata": {},
   "outputs": [
    {
     "name": "stdin",
     "output_type": "stream",
     "text": [
      "請輸入今天的降雨機率 (%) : 80\n"
     ]
    },
    {
     "name": "stdout",
     "output_type": "stream",
     "text": [
      "今天的降雨機率是 80.0%，小狐狸決定帶傘。\n"
     ]
    }
   ],
   "source": [
    "#練習題 (進階)\n",
    "rainpct = float(input(\"請輸入今天的降雨機率 (%) :\"))\n",
    "print(f\"今天的降雨機率是 {rainpct}%，小狐狸決定{'帶傘' if rainpct >= 50 else '不帶傘'}。\")"
   ]
  },
  {
   "cell_type": "markdown",
   "id": "391f05f6-f817-4e18-bea1-ec01873aeeb8",
   "metadata": {},
   "source": [
    "**練習題(進階)說明**\n",
    "\n",
    "input() : 接收使用者輸入 (input的預設為文字哦)  \n",
    "float() : 將使用者輸入的字串轉為小數，方便與數字比較  \n",
    "f-string : 將變數**rainpct**和條件運算結果一起插入字串  \n",
    "if ... else : 在字串中內嵌條件運算 (又叫做**三元運算子**)  \n",
    "判斷邏輯 : 如果`rainpct >= 50`，就印出「帶傘」，否則就印出「不帶傘」\n",
    "\n",
    "\n",
    "+ **條件運算子** (inline if) : A if 條件 else B\n",
    "+ **巢狀邏輯簡化寫法** : 適合在 f-string 中用來生成「選項文字」\n",
    "+ **實用場景訓練** : 與氣象、決策、自動回覆相關的小工具邏輯"
   ]
  },
  {
   "cell_type": "code",
   "execution_count": null,
   "id": "67be2a93-0aee-4276-a46a-1c7b1b025677",
   "metadata": {},
   "outputs": [],
   "source": []
  }
 ],
 "metadata": {
  "kernelspec": {
   "display_name": "Python 3 (ipykernel)",
   "language": "python",
   "name": "python3"
  },
  "language_info": {
   "codemirror_mode": {
    "name": "ipython",
    "version": 3
   },
   "file_extension": ".py",
   "mimetype": "text/x-python",
   "name": "python",
   "nbconvert_exporter": "python",
   "pygments_lexer": "ipython3",
   "version": "3.12.7"
  }
 },
 "nbformat": 4,
 "nbformat_minor": 5
}
