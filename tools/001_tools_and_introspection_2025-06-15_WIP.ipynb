{
 "cells": [
  {
   "cell_type": "markdown",
   "id": "a5864307-ff1a-4770-876a-a66df6db5db6",
   "metadata": {},
   "source": [
    "# Tools and Introspection (探索工具/除錯輔助)"
   ]
  },
  {
   "cell_type": "markdown",
   "id": "99e9a8c5-72a8-450a-ac79-891e43a3ef39",
   "metadata": {},
   "source": [
    "### 工具類型:\n",
    "| 函式名稱 | 類型 | 功能說明 |\n",
    "|:----|:----|:----|\n",
    "| `type()` | introspection | 回傳變數資料型別 |\n",
    "|`dir()`| introspection | 回傳某物件的所有屬性與方法 |\n",
    "|`help()`| introspection | 查看函式或物件的說明文件 (需在本地Python使用) |\n",
    "|`id()`| introspection | 查看物件(變數)的記憶體位置 (高階應用) |\n",
    "|`len()` | built-in function | 回傳序列長度 |\n",
    "| `max()` | built-in function | 回傳序列中最大值 |\n",
    "| `min()` | built-in function | 回傳序列中最小值 |\n",
    "| `sum()` | built-in function | 回傳序列所有數值總和 (限數字型別) |\n",
    "|`vars()`|  |  |\n",
    "|`__dict__`|  |  |\n",
    "|`isinstance()`|  |  |\n",
    "| `callable()` |  |  |\n",
    "| `globals()` |  |  |"
   ]
  },
  {
   "cell_type": "markdown",
   "id": "bec589a8-ac4f-4234-a2db-8b875d5ca74f",
   "metadata": {},
   "source": [
    "### 運算子縮寫 (Assignment Shortcuts):\n",
    "這種寫法叫做 **「加法賦值縮寫(Augmented Assignment)」**。\n",
    "|原始寫法|簡寫方式|功能|\n",
    "|:---|:---|:---|\n",
    "|`x = x + 1`|`x += 1`|加法|\n",
    "|`x = x - 1`|`x -= 1`|減法|\n",
    "|`x = x * 2`|`x *= 2`|乘法|\n",
    "|`x = x / 3`|`x /= 3`|除法|\n",
    "|`x = x % 2`|`x %= 2`|取餘數(mod)|\n",
    "|`x = x ** 2`|`x **= 2`|次方|"
   ]
  },
  {
   "cell_type": "code",
   "execution_count": null,
   "id": "366885b3-e0a1-4bec-93b3-33be5584c799",
   "metadata": {},
   "outputs": [],
   "source": []
  }
 ],
 "metadata": {
  "kernelspec": {
   "display_name": "Python 3 (ipykernel)",
   "language": "python",
   "name": "python3"
  },
  "language_info": {
   "codemirror_mode": {
    "name": "ipython",
    "version": 3
   },
   "file_extension": ".py",
   "mimetype": "text/x-python",
   "name": "python",
   "nbconvert_exporter": "python",
   "pygments_lexer": "ipython3",
   "version": "3.12.7"
  }
 },
 "nbformat": 4,
 "nbformat_minor": 5
}
