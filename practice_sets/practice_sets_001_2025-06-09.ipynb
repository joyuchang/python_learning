{
 "cells": [
  {
   "cell_type": "markdown",
   "id": "2dc8f134-53c2-4279-9491-5abace1b1708",
   "metadata": {},
   "source": [
    "# 綜合練習題(1-2)：點心預算助手\n",
    "### 題目:\n",
    "請寫一個函式`can_buy_snack(name, budget)`，  \n",
    "讓使用者輸入他們的名字和手上的零用錢，  \n",
    "程式會幫忙判斷是否可以買得起一份點心（每份價格為$35元），  \n",
    "並依照不同情況輸出對話。  \n",
    "\n",
    "### 條件需求：\n",
    "1. 使用`input()`輸入人數、名字與預算（請包進`try-except`防止輸入錯誤）\n",
    "2. 當輸入的預算不是數字 → 顯示錯誤訊息 `\"請輸入有效的數字哦!\"`\n",
    "3. 使用`if-elif-else`判斷:\n",
    "+ 預算`≥`35 → 印出`\"{name}，你可以買點心哦!\"`\n",
    "+ 預算 < 35 → 計算還差多少，印出`\"{name}，你還差{差額}元才能買點心哦~\"`\n",
    "\n",
    "4. 呼叫函式時使用`return`回傳一段對話文字，讓主程式用`print()`印出結果\n",
    "5. 用`for` + `range`重複測試3次輸入 (模擬3位同學)"
   ]
  },
  {
   "cell_type": "code",
   "execution_count": 27,
   "id": "454f1d9c-81c7-435f-b6ec-4173a8a56ac5",
   "metadata": {},
   "outputs": [
    {
     "name": "stdin",
     "output_type": "stream",
     "text": [
      "請問有幾個人? 3\n",
      "請輸入您的姓名: Bobo\n",
      "請輸入您手上的零用錢金額($): 80\n"
     ]
    },
    {
     "name": "stdout",
     "output_type": "stream",
     "text": [
      "Bobo，你可以買點心哦!\n"
     ]
    },
    {
     "name": "stdin",
     "output_type": "stream",
     "text": [
      "請輸入您的姓名: Jamie\n",
      "請輸入您手上的零用錢金額($): 20\n"
     ]
    },
    {
     "name": "stdout",
     "output_type": "stream",
     "text": [
      "Jamie，你還差15.0元才能買點心哦~\n"
     ]
    },
    {
     "name": "stdin",
     "output_type": "stream",
     "text": [
      "請輸入您的姓名: Kevin\n",
      "請輸入您手上的零用錢金額($): 150\n"
     ]
    },
    {
     "name": "stdout",
     "output_type": "stream",
     "text": [
      "Kevin，你可以買點心哦!\n"
     ]
    }
   ],
   "source": [
    "# 綜合練習題(1-2)：點心預算助手\n",
    "\n",
    "def can_buy_snack(name, budget):\n",
    "    if budget >= 35:\n",
    "        return f\"{name}，你可以買點心哦!\"\n",
    "    else:\n",
    "        return f\"{name}，你還差{35 - budget}元才能買點心哦~\"\n",
    "\n",
    "total = int(input(\"請問有幾個人?\"))\n",
    "for _ in range(total):\n",
    "    try:\n",
    "        name = input(\"請輸入您的姓名:\")\n",
    "        budget = float(input(\"請輸入您手上的零用錢金額($):\"))\n",
    "        print(can_buy_snack(name, budget))\n",
    "    except ValueError:\n",
    "        print(\"請輸入有效的數字哦!\")\n",
    "    p = p - 1"
   ]
  },
  {
   "cell_type": "markdown",
   "id": "0743831b-822b-4cb6-8ab6-a92735ac2c96",
   "metadata": {},
   "source": [
    "# 綜合練習題(2-2)：寵物報名系統\n",
    "### 題目：\n",
    "請設計一個程式，可以讓使用者輸入「寵物的名字」與「年齡」，  \n",
    "並依照年齡做出以下判斷：  \n",
    "+ 當輸入的年齡不是數字 → 顯示錯誤訊息 (用try/except)\n",
    "+ 年齡 < 1 → 回傳`\"{name}還是寶寶，請好好照顧哦！\"`\n",
    "+ 年齡 1~5 → 回傳`\"{name}是活力滿滿的青年寵物!\"`\n",
    "+ 年齡 > 5 → 回傳`\"{name}是成熟穩重的好夥伴~\"`\n",
    "\n",
    "### 額外條件：\n",
    "+ 實作一個`def classify_pet(name, age):`函式，負責回傳文字\n",
    "+ 使用者可以重複輸入3次 (while + 計數)\n",
    "+ 結果請用`f-string`顯示"
   ]
  },
  {
   "cell_type": "code",
   "execution_count": 25,
   "id": "3909ad03-9687-4a7e-8ad4-072e994cf491",
   "metadata": {},
   "outputs": [
    {
     "name": "stdin",
     "output_type": "stream",
     "text": [
      "請輸入寵物的名字: Bobo\n",
      "請輸入寵物的年齡 9\n"
     ]
    },
    {
     "name": "stdout",
     "output_type": "stream",
     "text": [
      "Bobo是成熟穩重的好夥伴~\n"
     ]
    },
    {
     "name": "stdin",
     "output_type": "stream",
     "text": [
      "請輸入寵物的名字: Orange\n",
      "請輸入寵物的年齡 2\n"
     ]
    },
    {
     "name": "stdout",
     "output_type": "stream",
     "text": [
      "Orange是活力滿滿的青年寵物!\n"
     ]
    },
    {
     "name": "stdin",
     "output_type": "stream",
     "text": [
      "請輸入寵物的名字: Love\n",
      "請輸入寵物的年齡 0.8\n"
     ]
    },
    {
     "name": "stdout",
     "output_type": "stream",
     "text": [
      "Love還是寶寶，請好好照顧哦!\n"
     ]
    }
   ],
   "source": [
    "# 綜合練習題(2-2): 寵物報名系統\n",
    "\n",
    "def classify_pet(name, age):\n",
    "    if age > 5:\n",
    "        return f\"{name}是成熟穩重的好夥伴~\"\n",
    "    elif 1 <= age <= 5:\n",
    "        return f\"{name}是活力滿滿的青年寵物!\"\n",
    "    else:\n",
    "        return f\"{name}還是寶寶，請好好照顧哦!\"\n",
    "\n",
    "p = 3\n",
    "while p > 0:\n",
    "    try:\n",
    "        name = input(\"請輸入寵物的名字:\")\n",
    "        age = float(input(\"請輸入寵物的年齡\"))\n",
    "        print(classify_pet(name, age))\n",
    "    except ValueError:\n",
    "        print(\"請輸入有效的年齡哦!\")\n",
    "    p = p - 1"
   ]
  },
  {
   "cell_type": "code",
   "execution_count": null,
   "id": "1a0acdd8-f01a-4a78-8cb6-ed47dd5916c7",
   "metadata": {},
   "outputs": [],
   "source": []
  }
 ],
 "metadata": {
  "kernelspec": {
   "display_name": "Python 3 (ipykernel)",
   "language": "python",
   "name": "python3"
  },
  "language_info": {
   "codemirror_mode": {
    "name": "ipython",
    "version": 3
   },
   "file_extension": ".py",
   "mimetype": "text/x-python",
   "name": "python",
   "nbconvert_exporter": "python",
   "pygments_lexer": "ipython3",
   "version": "3.12.7"
  }
 },
 "nbformat": 4,
 "nbformat_minor": 5
}
